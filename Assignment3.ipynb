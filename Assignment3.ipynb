{
 "cells": [
  {
   "cell_type": "markdown",
   "metadata": {},
   "source": [
    "# Assignment 3"
   ]
  },
  {
   "cell_type": "markdown",
   "metadata": {},
   "source": [
    "### Questions 1:\n",
    "### Create a numpy array starting from 2 till 50 with a stepsize of 3."
   ]
  },
  {
   "cell_type": "code",
   "execution_count": 1,
   "metadata": {},
   "outputs": [],
   "source": [
    "import numpy as np"
   ]
  },
  {
   "cell_type": "code",
   "execution_count": 5,
   "metadata": {},
   "outputs": [
    {
     "data": {
      "text/plain": [
       "array([ 2,  5,  8, 11, 14, 17, 20, 23, 26, 29, 32, 35, 38, 41, 44, 47, 50])"
      ]
     },
     "execution_count": 5,
     "metadata": {},
     "output_type": "execute_result"
    }
   ],
   "source": [
    "#solution\n",
    "arr=np.arange(2,51,3) #numpy array\n",
    "arr"
   ]
  },
  {
   "cell_type": "code",
   "execution_count": null,
   "metadata": {},
   "outputs": [],
   "source": []
  },
  {
   "cell_type": "markdown",
   "metadata": {},
   "source": [
    "### Questions 2:\n",
    "### Accept two lists of 5 elements each from the user.Convert them to numpy arrays. Concatenate these arrays and print it. Also sort these arrays and print it."
   ]
  },
  {
   "cell_type": "code",
   "execution_count": 13,
   "metadata": {},
   "outputs": [
    {
     "name": "stdout",
     "output_type": "stream",
     "text": [
      "10\n",
      "5\n",
      "8\n",
      "1\n",
      "9\n",
      "2\n",
      "7\n",
      "3\n",
      "9\n",
      "11\n",
      "[10  5  8  1  9  2  7  3  9 11]\n",
      "[ 1  5  8  9 10]\n",
      "[ 2  3  7  9 11]\n"
     ]
    }
   ],
   "source": [
    "#solution\n",
    "\n",
    "list1=[] #empty list 1\n",
    "for i in range(0,5):\n",
    "    n1=int(input()) #take the input values for list 1\n",
    "    list1.append(n1)\n",
    "\n",
    "list2=[] #empty list 1\n",
    "for j in range(0,5):\n",
    "    n2=int(input()) #take the input values for list 1\n",
    "    list2.append(n2)\n",
    "\n",
    "#convert them into numpy arrays\n",
    "np_arr1=np.array(list1)\n",
    "np_arr2=np.array(list2)\n",
    "\n",
    "#concatenate these arrays\n",
    "concat_arr=np.concatenate((np_arr1,np_arr2),axis=0)\n",
    "print(concat_arr)\n",
    "\n",
    "#sort these arrays\n",
    "sort_arr1=np.sort(np_arr1)\n",
    "print(sort_arr1)\n",
    "sort_arr2=np.sort(np_arr2)\n",
    "print(sort_arr2)"
   ]
  },
  {
   "cell_type": "markdown",
   "metadata": {},
   "source": [
    "## Questions 3:\n",
    "### Write a code snippet to find the dimensions of a ndarray and its size."
   ]
  },
  {
   "cell_type": "code",
   "execution_count": 20,
   "metadata": {},
   "outputs": [
    {
     "name": "stdout",
     "output_type": "stream",
     "text": [
      "1\n",
      "6\n",
      "2\n",
      "10\n"
     ]
    }
   ],
   "source": [
    "#solution\n",
    "\n",
    "arr_1=np.array([4,6,7,8,9,2]) #numpy array\n",
    "print(arr_1.ndim) #print the dimensions\n",
    "print(arr_1.size) #print the size\n",
    "\n",
    "arr_2=np.array([[6,8,3,1,9],[5,7,8,3,5]]) #numpy array\n",
    "print(arr_2.ndim) #print the dimensions\n",
    "print(arr_2.size) #print the size"
   ]
  },
  {
   "cell_type": "code",
   "execution_count": null,
   "metadata": {},
   "outputs": [],
   "source": []
  },
  {
   "cell_type": "markdown",
   "metadata": {},
   "source": [
    "### Questions 4:\n",
    "### How to convert a 1D array into a 2D array? Demonstrate with the help of a code snippet.\n",
    "Hint: np.newaxis, np.expand_dims"
   ]
  },
  {
   "cell_type": "code",
   "execution_count": 31,
   "metadata": {},
   "outputs": [
    {
     "name": "stdout",
     "output_type": "stream",
     "text": [
      "1\n",
      "(5,)\n",
      "2\n",
      "(1, 5)\n"
     ]
    }
   ],
   "source": [
    "#solution\n",
    "\n",
    "x = np.array([5,1,2,7,8]) #numpy array\n",
    "print(x.ndim) #print the dimension of x array\n",
    "print(x.shape)\n",
    "\n",
    "#by using np.newaxis\n",
    "new_arr= x[np.newaxis, :] #convert 1D array into 2D array\n",
    "print(new_arr.ndim) #print the dimension of new array\n",
    "print(new_arr.shape)"
   ]
  },
  {
   "cell_type": "code",
   "execution_count": 34,
   "metadata": {},
   "outputs": [
    {
     "name": "stdout",
     "output_type": "stream",
     "text": [
      "2\n",
      "(1, 5)\n"
     ]
    }
   ],
   "source": [
    "#by using np.expand_dims\n",
    "y = np.expand_dims(x, axis=0) #convert 1D array into 2D array\n",
    "print(y.ndim) #print the dimension of new array\n",
    "print(y.shape)"
   ]
  },
  {
   "cell_type": "code",
   "execution_count": null,
   "metadata": {},
   "outputs": [],
   "source": []
  },
  {
   "cell_type": "markdown",
   "metadata": {},
   "source": [
    "### Questions 5:\n",
    "### Consider two square numpy arrays. Stack them vertically and horizontally.\n",
    "Hint: Use vstack(), hstack()"
   ]
  },
  {
   "cell_type": "code",
   "execution_count": 38,
   "metadata": {},
   "outputs": [
    {
     "name": "stdout",
     "output_type": "stream",
     "text": [
      "[[1 2]\n",
      " [3 4]\n",
      " [5 6]\n",
      " [7 8]]\n",
      "\n",
      "\n",
      "[[1 2 5 6]\n",
      " [3 4 7 8]]\n"
     ]
    }
   ],
   "source": [
    "#solution\n",
    "\n",
    "a = np.array([[1, 2],[3, 4]]) \n",
    "b = np.array([[5, 6],[7, 8]]) \n",
    "\n",
    "# vertical stacking \n",
    "print(np.vstack((a, b))) \n",
    "print(\"\\n\")\n",
    "# horizontal stacking \n",
    "print(np.hstack((a, b))) "
   ]
  },
  {
   "cell_type": "code",
   "execution_count": null,
   "metadata": {},
   "outputs": [],
   "source": []
  },
  {
   "cell_type": "markdown",
   "metadata": {},
   "source": [
    "### Questions 6:\n",
    "### How to get unique items and counts of unique items?"
   ]
  },
  {
   "cell_type": "code",
   "execution_count": 46,
   "metadata": {},
   "outputs": [
    {
     "name": "stdout",
     "output_type": "stream",
     "text": [
      "[1 2 3 4 5 8 9]\n",
      "(array([1, 2, 3, 4, 5, 8, 9]), array([1, 2, 1, 1, 3, 2, 1], dtype=int64))\n"
     ]
    }
   ],
   "source": [
    "#solution\n",
    "\n",
    "a=np.array([2,5,8,4,5,2,5,8,1,3,9]) #numpy array\n",
    "print(np.unique(a)) #print unique values of numpy array\n",
    "\n",
    "counts_items = np.unique(a, return_counts=True) #get unique items and counts of unique items\n",
    "print(counts_items)"
   ]
  },
  {
   "cell_type": "code",
   "execution_count": null,
   "metadata": {},
   "outputs": [],
   "source": []
  }
 ],
 "metadata": {
  "kernelspec": {
   "display_name": "Python 3",
   "language": "python",
   "name": "python3"
  },
  "language_info": {
   "codemirror_mode": {
    "name": "ipython",
    "version": 3
   },
   "file_extension": ".py",
   "mimetype": "text/x-python",
   "name": "python",
   "nbconvert_exporter": "python",
   "pygments_lexer": "ipython3",
   "version": "3.7.6"
  }
 },
 "nbformat": 4,
 "nbformat_minor": 4
}
