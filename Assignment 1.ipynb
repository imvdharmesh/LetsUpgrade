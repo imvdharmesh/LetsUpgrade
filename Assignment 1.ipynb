{
 "cells": [
  {
   "cell_type": "markdown",
   "metadata": {},
   "source": [
    "# Assignment 1"
   ]
  },
  {
   "cell_type": "markdown",
   "metadata": {},
   "source": [
    "### Questions 1:\n",
    "### Given the following jumbled word, OBANWRI guess the correct English word.\n",
    "\n",
    "A. RANIBOW\n",
    "\n",
    "B. RAINBOW\n",
    "\n",
    "C. BOWRANI\n",
    "\n",
    "D. ROBWANI\n",
    "\n",
    "### Answer : B. RAINBOW"
   ]
  },
  {
   "cell_type": "code",
   "execution_count": null,
   "metadata": {},
   "outputs": [],
   "source": []
  },
  {
   "cell_type": "markdown",
   "metadata": {},
   "source": [
    "### Questions 2:\n",
    "### Write a program which prints “LETS UPGRADE”. (Please note that you have to print in ALL CAPS as given)"
   ]
  },
  {
   "cell_type": "code",
   "execution_count": 4,
   "metadata": {},
   "outputs": [
    {
     "name": "stdout",
     "output_type": "stream",
     "text": [
      "LETS UPGRADE\n"
     ]
    }
   ],
   "source": [
    "#solution\n",
    "que='lets upgrade'\n",
    "ans=que.upper()\n",
    "print(ans)"
   ]
  },
  {
   "cell_type": "code",
   "execution_count": null,
   "metadata": {},
   "outputs": [],
   "source": []
  },
  {
   "cell_type": "markdown",
   "metadata": {},
   "source": [
    "### Questions 3:\n",
    "### Write a program that takes cost price and selling price as input and displays whether the transaction is a Profit or a Loss or Neither.\n",
    "\n",
    "INPUT FORMAT\n",
    "The first line contains the cost price.\n",
    "The second line contains the selling price.\n",
    "\n",
    "OUTPUT FORMAT\n",
    "Print \"Profit\" if the transaction is a profit or \"Loss\" if it is a loss. If it is neither\n",
    "profit nor loss, print \"Neither\". (You must not have quotes in your output)\n",
    "\n",
    "NOTE:\n",
    "Please stick to the input and output format. Don't add anything extra like 'Enter cost price', 'Enter selling price', etc."
   ]
  },
  {
   "cell_type": "code",
   "execution_count": 11,
   "metadata": {},
   "outputs": [
    {
     "name": "stdout",
     "output_type": "stream",
     "text": [
      "19\n",
      "95\n",
      "Profit\n"
     ]
    }
   ],
   "source": [
    "#solution\n",
    "cost_p=int(input())\n",
    "sell_p=int(input())\n",
    "\n",
    "trans=sell_p-cost_p\n",
    "\n",
    "if trans > 0:\n",
    "    print(\"Profit\")\n",
    "elif trans < 0:\n",
    "    print(\"Loss\")\n",
    "else:\n",
    "    print(\"Neither\")\n",
    "        "
   ]
  },
  {
   "cell_type": "code",
   "execution_count": null,
   "metadata": {},
   "outputs": [],
   "source": []
  },
  {
   "cell_type": "markdown",
   "metadata": {},
   "source": [
    "### Questions 4:\n",
    "### Write a program that takes an amount in Euros as input. You need to find its equivalent in Rupees and display it. Assume 1 Euro equals Rs. 80.\n",
    "\n",
    "Please note that you are expected to stick to the given input and output format as in sample test cases. Please don't add any extra lines such as 'Enter a number', etc.\n",
    "Your program should take only one number as input and display the output."
   ]
  },
  {
   "cell_type": "code",
   "execution_count": 18,
   "metadata": {},
   "outputs": [
    {
     "name": "stdout",
     "output_type": "stream",
     "text": [
      "95\n",
      "7600\n"
     ]
    }
   ],
   "source": [
    "#solution\n",
    "euro=int(input())\n",
    "rupees=euro*80\n",
    "print(rupees)"
   ]
  },
  {
   "cell_type": "code",
   "execution_count": null,
   "metadata": {},
   "outputs": [],
   "source": []
  }
 ],
 "metadata": {
  "kernelspec": {
   "display_name": "Python 3",
   "language": "python",
   "name": "python3"
  },
  "language_info": {
   "codemirror_mode": {
    "name": "ipython",
    "version": 3
   },
   "file_extension": ".py",
   "mimetype": "text/x-python",
   "name": "python",
   "nbconvert_exporter": "python",
   "pygments_lexer": "ipython3",
   "version": "3.7.6"
  }
 },
 "nbformat": 4,
 "nbformat_minor": 4
}
