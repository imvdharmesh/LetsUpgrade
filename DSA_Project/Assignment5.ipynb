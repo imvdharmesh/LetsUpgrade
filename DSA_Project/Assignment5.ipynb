{
 "cells": [
  {
   "cell_type": "markdown",
   "metadata": {},
   "source": [
    "# Assignment - 5"
   ]
  },
  {
   "cell_type": "markdown",
   "metadata": {},
   "source": [
    "### Question 1\n",
    "### Perform Bubble sort using function in python.\n",
    "\n",
    "### Solution:"
   ]
  },
  {
   "cell_type": "code",
   "execution_count": 2,
   "metadata": {},
   "outputs": [
    {
     "name": "stdout",
     "output_type": "stream",
     "text": [
      "[5, 10, 12, 15, 23, 34]\n"
     ]
    }
   ],
   "source": [
    "def bubble_sort(l):\n",
    "    n= len(l)\n",
    "    for i in range(0,n):\n",
    "        swapped = 0\n",
    "        for j in range(0,n-1-i):\n",
    "            if l[j] > l[j+1]:\n",
    "                l[j],l[j+1] = l[j+1],l[j]\n",
    "                swapped = 1\n",
    "        if swapped == 0:\n",
    "            break\n",
    "    return l\n",
    "\n",
    "li = [12, 34, 5, 23, 10, 15]\n",
    "res = bubble_sort(li)\n",
    "print(res)"
   ]
  },
  {
   "cell_type": "code",
   "execution_count": null,
   "metadata": {},
   "outputs": [],
   "source": []
  },
  {
   "cell_type": "markdown",
   "metadata": {},
   "source": [
    "### Question 2\n",
    "### Perform Selection sort using function in python.\n",
    "\n",
    "### Solution:"
   ]
  },
  {
   "cell_type": "code",
   "execution_count": 12,
   "metadata": {},
   "outputs": [
    {
     "name": "stdout",
     "output_type": "stream",
     "text": [
      "[15, 21, 30, 33, 43, 54]\n"
     ]
    }
   ],
   "source": [
    "def select_sort(l):\n",
    "    n = len(l)\n",
    "    for i in range(0, n-1):\n",
    "        pos = i\n",
    "        for j in range(i+1, n):\n",
    "            if l[pos] > l[j]:\n",
    "                pos = j\n",
    "        l[pos],l[i] = l[i],l[pos]\n",
    "    return l\n",
    "\n",
    "li = [33, 54, 21, 43, 30, 15]\n",
    "\n",
    "res = select_sort(li)\n",
    "print(res)"
   ]
  },
  {
   "cell_type": "code",
   "execution_count": null,
   "metadata": {},
   "outputs": [],
   "source": []
  },
  {
   "cell_type": "markdown",
   "metadata": {},
   "source": [
    "### Question 3\n",
    "### Perform Insertion sort using function in python.\n",
    "\n",
    "### Solution:"
   ]
  },
  {
   "cell_type": "code",
   "execution_count": 14,
   "metadata": {},
   "outputs": [
    {
     "name": "stdout",
     "output_type": "stream",
     "text": [
      "[0, 4, 7, 10, 15, 21, 24]\n"
     ]
    }
   ],
   "source": [
    "def insert_sort(l):\n",
    "    n = len(l)\n",
    "    for j in range(1,n):\n",
    "        key = l[j]\n",
    "        i = j-1\n",
    "        while(i >=0 and l[i] > key):\n",
    "            l[i+1] = l[i]\n",
    "            i = i-1\n",
    "        l[i+1] = key\n",
    "    return l\n",
    "\n",
    "li = [21, 24, 10, 0, 7, 15, 4]\n",
    "\n",
    "res = insert_sort(li)\n",
    "print(res)"
   ]
  },
  {
   "cell_type": "code",
   "execution_count": null,
   "metadata": {},
   "outputs": [],
   "source": []
  }
 ],
 "metadata": {
  "kernelspec": {
   "display_name": "Python 3",
   "language": "python",
   "name": "python3"
  },
  "language_info": {
   "codemirror_mode": {
    "name": "ipython",
    "version": 3
   },
   "file_extension": ".py",
   "mimetype": "text/x-python",
   "name": "python",
   "nbconvert_exporter": "python",
   "pygments_lexer": "ipython3",
   "version": "3.8.5"
  }
 },
 "nbformat": 4,
 "nbformat_minor": 4
}
