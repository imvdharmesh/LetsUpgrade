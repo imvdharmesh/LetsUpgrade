{
 "cells": [
  {
   "cell_type": "markdown",
   "metadata": {},
   "source": [
    "# Assignment - 3"
   ]
  },
  {
   "cell_type": "markdown",
   "metadata": {},
   "source": [
    "### Question 1\n",
    "### Create an Array in python using the list and perform delete from any position operation.\n",
    "\n",
    "### Solution:"
   ]
  },
  {
   "cell_type": "code",
   "execution_count": 1,
   "metadata": {},
   "outputs": [
    {
     "name": "stdout",
     "output_type": "stream",
     "text": [
      "[10, 15, 20, 30, 5, 25]\n",
      "[10, 20, 30, 5, 25]\n"
     ]
    }
   ],
   "source": [
    "arr_list = [10, 15, 20, 30, 5, 25]\n",
    "print(arr_list)\n",
    "arr_list.remove(15)\n",
    "print(arr_list)"
   ]
  },
  {
   "cell_type": "code",
   "execution_count": null,
   "metadata": {},
   "outputs": [],
   "source": []
  },
  {
   "cell_type": "markdown",
   "metadata": {},
   "source": [
    "### Question 2\n",
    "### What is constructor? Mention the task of the constructor."
   ]
  },
  {
   "cell_type": "markdown",
   "metadata": {},
   "source": [
    "### Answer :\n",
    "    Constructors are generally used for instantiating an object.\n",
    "    The task of constructors is to initialize(assign values) to the data members of the class when an object of class is created.\n",
    "    In Python the __init__() method is called the constructor and is always called when an object is created.\n",
    "    \n",
    "### Syntax of constructor declaration :\n",
    "\n",
    "    def __init__(self):\n",
    "        # body of the constructor"
   ]
  },
  {
   "cell_type": "code",
   "execution_count": null,
   "metadata": {},
   "outputs": [],
   "source": []
  }
 ],
 "metadata": {
  "kernelspec": {
   "display_name": "Python 3",
   "language": "python",
   "name": "python3"
  },
  "language_info": {
   "codemirror_mode": {
    "name": "ipython",
    "version": 3
   },
   "file_extension": ".py",
   "mimetype": "text/x-python",
   "name": "python",
   "nbconvert_exporter": "python",
   "pygments_lexer": "ipython3",
   "version": "3.8.5"
  }
 },
 "nbformat": 4,
 "nbformat_minor": 4
}
