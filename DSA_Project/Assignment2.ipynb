{
 "cells": [
  {
   "cell_type": "markdown",
   "metadata": {},
   "source": [
    "# Assignment - 2"
   ]
  },
  {
   "cell_type": "markdown",
   "metadata": {},
   "source": [
    "### Question 1\n",
    "### What is the time, space complexity of following code:\n",
    "    int a = 0, b = 0;\n",
    "    for (i = 0; i < N; i++) {\n",
    "    a = a + 1;\n",
    "    }\n",
    "    for (j = 0; j < M; j++) {\n",
    "    b = b + j;\n",
    "    }"
   ]
  },
  {
   "cell_type": "markdown",
   "metadata": {},
   "source": [
    "### Answer:\n",
    "    O(N + M) time complexity,\n",
    "    O(1) space complexity\n",
    "    \n",
    "### Explanation:\n",
    "    The first loop is O(N) and the second loop is O(M). Since we don’t know which is bigger, we say this is O(N + M). This can also be written as O(max(N, M)).\n",
    "    Since there is no additional space being utilized, the space complexity is constant O(1)"
   ]
  },
  {
   "cell_type": "code",
   "execution_count": null,
   "metadata": {},
   "outputs": [],
   "source": []
  },
  {
   "cell_type": "markdown",
   "metadata": {},
   "source": [
    "### Question 2\n",
    "### What does it mean when we say that an algorithm X is asymptotically more efficient than Y?\n",
    "    a)X will be a better choice for all inputs\n",
    "    b)X will be a better choice for all inputs except possibly small inputs\n",
    "    c)X will be a better choice for all inputs except possibly large inputs\n",
    "    d)Y will be a better choice for small inputs"
   ]
  },
  {
   "cell_type": "markdown",
   "metadata": {},
   "source": [
    "### Answer:\n",
    "    (b) X will be a better choice for all inputs except possibly small inputs\n",
    "### Explanation:\n",
    "    In asymptotic analysis we consider growth of algorithm in terms of input size. An algorithm X is said to be asymptotically better than Y if X takes smaller time than y for all input sizes n larger than a value n0 where n0 > 0."
   ]
  },
  {
   "cell_type": "code",
   "execution_count": null,
   "metadata": {},
   "outputs": [],
   "source": []
  },
  {
   "cell_type": "markdown",
   "metadata": {},
   "source": [
    "### Question 3\n",
    "### Write a Python program to print even numbers in a list.\n",
    "    Sample:\n",
    "    Input: list1 = [12, 3, 55, 6, 144]\n",
    "    Output: [12, 6, 144]\n",
    "    Input: list2 = [2, 10, 9, 37]\n",
    "    Output: [2, 10]\n",
    "    \n",
    "### Solution"
   ]
  },
  {
   "cell_type": "code",
   "execution_count": 11,
   "metadata": {},
   "outputs": [
    {
     "name": "stdout",
     "output_type": "stream",
     "text": [
      "Enter the size of list:5\n",
      "Enter any number:12\n",
      "Enter any number:3\n",
      "Enter any number:55\n",
      "Enter any number:6\n",
      "Enter any number:144\n",
      "[12, 6, 144]\n"
     ]
    }
   ],
   "source": [
    "size = int(input(\"Enter the size of list:\"))\n",
    "my_list = []\n",
    "for i in range(0,size):\n",
    "    num = int(input(\"Enter any number:\"))\n",
    "    if num%2 == 0:\n",
    "        my_list.append(num)\n",
    "print(my_list)"
   ]
  },
  {
   "cell_type": "code",
   "execution_count": null,
   "metadata": {},
   "outputs": [],
   "source": []
  }
 ],
 "metadata": {
  "kernelspec": {
   "display_name": "Python 3",
   "language": "python",
   "name": "python3"
  },
  "language_info": {
   "codemirror_mode": {
    "name": "ipython",
    "version": 3
   },
   "file_extension": ".py",
   "mimetype": "text/x-python",
   "name": "python",
   "nbconvert_exporter": "python",
   "pygments_lexer": "ipython3",
   "version": "3.8.5"
  }
 },
 "nbformat": 4,
 "nbformat_minor": 4
}
