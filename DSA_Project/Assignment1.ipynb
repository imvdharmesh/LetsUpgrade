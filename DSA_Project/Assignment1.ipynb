{
 "cells": [
  {
   "cell_type": "markdown",
   "metadata": {},
   "source": [
    "# Assignment - 1"
   ]
  },
  {
   "cell_type": "markdown",
   "metadata": {},
   "source": [
    "### Question 1\n",
    "### Write a python program that takes two numbers as the input and print the result of Addition, Subtraction, Multiplication, Division of the two numbers."
   ]
  },
  {
   "cell_type": "code",
   "execution_count": 4,
   "metadata": {},
   "outputs": [
    {
     "name": "stdout",
     "output_type": "stream",
     "text": [
      "Enter 1st Number :36\n",
      "Enter 2nd Number :9\n",
      "Addition is : 45\n",
      "Subtraction is : 27\n",
      "Multiplication is : 324\n",
      "Division is : 4.0\n"
     ]
    }
   ],
   "source": [
    "num1 = int(input(\"Enter 1st Number :\"))\n",
    "num2 = int(input(\"Enter 2nd Number :\"))\n",
    "\n",
    "add = num1 + num2\n",
    "print(\"Addition is :\",add)\n",
    "\n",
    "sub = num1 - num2\n",
    "print(\"Subtraction is :\",sub)\n",
    "\n",
    "mul = num1 * num2\n",
    "print(\"Multiplication is :\",mul)\n",
    "\n",
    "div = num1 / num2\n",
    "print(\"Division is :\",div)"
   ]
  },
  {
   "cell_type": "code",
   "execution_count": null,
   "metadata": {},
   "outputs": [],
   "source": []
  },
  {
   "cell_type": "markdown",
   "metadata": {},
   "source": [
    "### Question 2\n",
    "### Write a python program that takes two numbers as the input such as X and Y and print the result of X^Y(X to the power of Y)."
   ]
  },
  {
   "cell_type": "code",
   "execution_count": 15,
   "metadata": {},
   "outputs": [
    {
     "name": "stdout",
     "output_type": "stream",
     "text": [
      "Enter the number :12\n",
      "Enter the power of number:4\n",
      "12 to the power of 4 is 20736\n"
     ]
    }
   ],
   "source": [
    "X = int(input(\"Enter the number :\"))\n",
    "Y = int(input(\"Enter the power of number:\"))\n",
    "\n",
    "power = X**Y\n",
    "print(X,\"to the power of\",Y,\"is\",power)"
   ]
  },
  {
   "cell_type": "code",
   "execution_count": null,
   "metadata": {},
   "outputs": [],
   "source": []
  }
 ],
 "metadata": {
  "kernelspec": {
   "display_name": "Python 3",
   "language": "python",
   "name": "python3"
  },
  "language_info": {
   "codemirror_mode": {
    "name": "ipython",
    "version": 3
   },
   "file_extension": ".py",
   "mimetype": "text/x-python",
   "name": "python",
   "nbconvert_exporter": "python",
   "pygments_lexer": "ipython3",
   "version": "3.8.5"
  }
 },
 "nbformat": 4,
 "nbformat_minor": 4
}
