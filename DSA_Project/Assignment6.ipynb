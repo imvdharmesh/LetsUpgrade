{
 "cells": [
  {
   "cell_type": "markdown",
   "metadata": {},
   "source": [
    "# Assignment - 6"
   ]
  },
  {
   "cell_type": "markdown",
   "metadata": {},
   "source": [
    "### Question 1\n",
    "### Implement dequeue operation in the queue.\n",
    "\n",
    "### Solution:"
   ]
  },
  {
   "cell_type": "code",
   "execution_count": 28,
   "metadata": {},
   "outputs": [
    {
     "name": "stdout",
     "output_type": "stream",
     "text": [
      "Enter the queue size: 5\n",
      "10 20 30 \n",
      "\n",
      "20 30 "
     ]
    }
   ],
   "source": [
    "def enqueue(x):\n",
    "    global size, f, r\n",
    "    if r == size - 1:\n",
    "        print('Overflow')\n",
    "        return\n",
    "    if r == -1:\n",
    "        f = r = 0\n",
    "    else:\n",
    "        r += 1\n",
    "    q.append(x)\n",
    "    return\n",
    "\n",
    "### implementation of deueue operation in the queue\n",
    "\n",
    "def dequeue():  \n",
    "    global size, f, r\n",
    "    if f == -1:\n",
    "        print('Underflow')\n",
    "        return\n",
    "    q.pop(0)\n",
    "    r -= 1\n",
    "\n",
    "def display():\n",
    "    global size, f, r\n",
    "    if f == -1:\n",
    "        print('No item to display')\n",
    "        return\n",
    "    for i in range(f, r + 1):\n",
    "        print(q[i], end = \" \")\n",
    "    return\n",
    "\n",
    "q = []\n",
    "f = r = -1\n",
    "size = int(input('Enter the queue size: '))\n",
    "\n",
    "enqueue(10)\n",
    "enqueue(20)\n",
    "enqueue(30)\n",
    "\n",
    "display()\n",
    "print()\n",
    "\n",
    "dequeue()\n",
    "print()\n",
    "\n",
    "display()"
   ]
  },
  {
   "cell_type": "code",
   "execution_count": null,
   "metadata": {},
   "outputs": [],
   "source": []
  },
  {
   "cell_type": "markdown",
   "metadata": {},
   "source": [
    "### Question 2\n",
    "### A Barua number is a number that consists of only zeroes and ones and has only one 1. Barua’s number will start with 1. Given numbers, find out the multiplication of the numbers. Note: The input may contain one decimal number and all other Barua numbers. (Assume that each number is very large and the total number of values give is also very large)\n",
    "    Input 1: 100 10 12 1000\n",
    "    Output 1: 12000000\n",
    "    Input 2: 100 121 1000000000000000\n",
    "    Output 2: 12100000000000000000\n",
    "    Input 3: 10 100 1000\n",
    "    Output 3: 1000000\n",
    "    \n",
    "### Solution:"
   ]
  },
  {
   "cell_type": "code",
   "execution_count": 34,
   "metadata": {},
   "outputs": [
    {
     "name": "stdout",
     "output_type": "stream",
     "text": [
      "Enter Values:\n",
      "100 10 12 1000\n",
      "12000000\n"
     ]
    }
   ],
   "source": [
    "l = [int(i) for i in input('Enter Values:\\n').split()]\n",
    "num = 1\n",
    "for n in range(0, len(l)):\n",
    "    num = num * l[n]\n",
    "print(num)"
   ]
  },
  {
   "cell_type": "code",
   "execution_count": null,
   "metadata": {},
   "outputs": [],
   "source": []
  }
 ],
 "metadata": {
  "kernelspec": {
   "display_name": "Python 3",
   "language": "python",
   "name": "python3"
  },
  "language_info": {
   "codemirror_mode": {
    "name": "ipython",
    "version": 3
   },
   "file_extension": ".py",
   "mimetype": "text/x-python",
   "name": "python",
   "nbconvert_exporter": "python",
   "pygments_lexer": "ipython3",
   "version": "3.8.5"
  }
 },
 "nbformat": 4,
 "nbformat_minor": 4
}
