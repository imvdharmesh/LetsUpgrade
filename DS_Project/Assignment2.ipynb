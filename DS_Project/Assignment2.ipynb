{
 "cells": [
  {
   "cell_type": "markdown",
   "metadata": {},
   "source": [
    "# Assignment 2"
   ]
  },
  {
   "cell_type": "markdown",
   "metadata": {},
   "source": [
    "### Questions 1:\n",
    "### Create an empty list. Accept 10 numbers from the user and append to it the list if it is an even number."
   ]
  },
  {
   "cell_type": "code",
   "execution_count": 6,
   "metadata": {
    "scrolled": true
   },
   "outputs": [
    {
     "name": "stdout",
     "output_type": "stream",
     "text": [
      "10\n",
      "6\n",
      "14\n",
      "25\n",
      "12\n",
      "9\n",
      "14\n",
      "11\n",
      "36\n",
      "31\n",
      "[10, 6, 14, 12, 14, 36]\n"
     ]
    }
   ],
   "source": [
    "#solution\n",
    "l=[]\n",
    "for i in range(0,10):\n",
    "    n=int(input())\n",
    "    if n%2 == 0:\n",
    "        l.append(n)\n",
    "print(l)"
   ]
  },
  {
   "cell_type": "code",
   "execution_count": null,
   "metadata": {},
   "outputs": [],
   "source": []
  },
  {
   "cell_type": "markdown",
   "metadata": {},
   "source": [
    "### Questions 2:\n",
    "### Create a notebook on LIST COMPREHENSION. This exercise is to put you in a Self learning mode."
   ]
  },
  {
   "cell_type": "code",
   "execution_count": 17,
   "metadata": {
    "scrolled": true
   },
   "outputs": [
    {
     "name": "stdout",
     "output_type": "stream",
     "text": [
      "[1, 2, 3, 4, 5, 6, 7, 8, 9, 10]\n",
      "[1, 2, 3, 4, 5, 6, 7, 8, 9, 10, 11]\n",
      "[1, 2, 3, 4, 5, 6, 7, 8, 9, 10, 11, 12]\n",
      "[1, 2, 3, 4, 5, 6, 7, 8, 9, 10, 11, 12]\n",
      "[1, 2, 3, 4, 5, 6, 7, 8, 9, 10, 11]\n",
      "[0, 2, 4, 6, 8, 10, 12, 14, 16, 18]\n",
      "[0, 10, 20, 30, 40, 50, 60, 70, 80, 90]\n",
      "['Even', 'Odd', 'Even', 'Odd', 'Even', 'Odd', 'Even', 'Odd', 'Even', 'Odd']\n"
     ]
    }
   ],
   "source": [
    "#solution\n",
    "\n",
    "list1=[i for i in range(1,11)]\n",
    "print(list1)\n",
    "\n",
    "list1.append(11) #list.append(x)\n",
    "print(list1)\n",
    "\n",
    "list1.insert(11,12) #list.insert(i, x)\n",
    "print(list1)\n",
    "\n",
    "lst=[] #empty list\n",
    "lst.extend(list1) #list.extend(iterable)\n",
    "print(lst)\n",
    "\n",
    "lst.remove(12) #list.remove(x)\n",
    "print(lst)\n",
    "\n",
    "num_list = [ x for x in range(20) if x % 2 == 0] #Using if with List Comprehension\n",
    "print(num_list)\n",
    "\n",
    "num_list1 = [y for y in range(100) if y % 2 == 0 if y % 5 == 0] #Nested IF with List Comprehension\n",
    "print(num_list1)\n",
    "\n",
    "odd_even = [\"Even\" if i%2==0 else \"Odd\" for i in range(10)] #if...else With List Comprehension\n",
    "print(odd_even)"
   ]
  },
  {
   "cell_type": "code",
   "execution_count": null,
   "metadata": {},
   "outputs": [],
   "source": []
  },
  {
   "cell_type": "markdown",
   "metadata": {},
   "source": [
    "### Questions 3:\n",
    "### You have seen in the videos how powerful dictionary data structure is.In this assignment, given a number n, you have to write a program that generates a dictionary d which contains (i, i*i), where i is from 1 to n (both included).Then you have to just print this dictionary d.\n",
    "Example:\n",
    "Input: 4\n",
    "will give output as\n",
    "{1: 1, 2: 4, 3: 9, 4: 16}\n",
    "\n",
    "Input Format:\n",
    "Take the number n in a single line.\n",
    "\n",
    "Output Format:\n",
    "Print the dictionary d in a single line.\n",
    "\n",
    "Example:\n",
    "Input:\n",
    "8\n",
    "\n",
    "Output:\n",
    "{1: 1, 2: 4, 3: 9, 4: 16, 5: 25, 6: 36, 7: 49, 8: 64}"
   ]
  },
  {
   "cell_type": "code",
   "execution_count": 22,
   "metadata": {},
   "outputs": [
    {
     "name": "stdout",
     "output_type": "stream",
     "text": [
      "8\n",
      "{1: 1, 2: 4, 3: 9, 4: 16, 5: 25, 6: 36, 7: 49, 8: 64}\n"
     ]
    }
   ],
   "source": [
    "#solution\n",
    "\n",
    "n=int(input())\n",
    "d_dict={}\n",
    "for i in range(1,n+1):\n",
    "    d_dict.update({i:i*i})\n",
    "print(d_dict)"
   ]
  },
  {
   "cell_type": "code",
   "execution_count": null,
   "metadata": {},
   "outputs": [],
   "source": []
  },
  {
   "cell_type": "markdown",
   "metadata": {},
   "source": [
    "### Questions 4:\n",
    "#### There is a robot which wants to go the charging point to charge itself.The robot moves in a 2-D plane from the original point (0,0). The robot can move toward UP, DOWN, LEFT and RIGHT with given steps.The trace of robot movement is shown as the following:\n",
    "UP 5\n",
    "DOWN 3\n",
    "LEFT 3\n",
    "RIGHT 2\n",
    "Then, the output of the program should be:\n",
    "2\n",
    "The numbers after the direction are steps.\n",
    "\n",
    "### Write a program to compute the distance between the current position after a sequence of movement and original point. If the distance is a float, then just print the nearest integer (use round() function for that and then convert it into an integer).\n",
    "Input Format:\n",
    "The first line of the input contains a number n which implies the number of directions to be given.\n",
    "The next n lines contain the direction and the step separated by a space.\n",
    "\n",
    "Output Format:\n",
    "Print the distance from the original position to the current position.\n",
    "\n",
    "Example:\n",
    "Input:\n",
    "4\n",
    "UP 5\n",
    "DOWN 3\n",
    "LEFT 3\n",
    "RIGHT 2\n",
    "\n",
    "Output:\n",
    "2"
   ]
  },
  {
   "cell_type": "code",
   "execution_count": 31,
   "metadata": {},
   "outputs": [
    {
     "name": "stdout",
     "output_type": "stream",
     "text": [
      "4\n",
      "UP 5\n",
      "DOWN 3\n",
      "LEFT 3\n",
      "RIGHT 2\n",
      "2\n"
     ]
    }
   ],
   "source": [
    "#solution\n",
    "x=0\n",
    "y=0\n",
    "n = int(input())\n",
    "for i in range(n):\n",
    "    direction = input().split(' ')  \n",
    "    if direction[0].upper() == \"UP\":\n",
    "        y += int(direction[1])\n",
    "    elif direction[0].upper() == \"RIGHT\":\n",
    "        x += int(direction[1])\n",
    "    elif direction[0].upper() == \"DOWN\":\n",
    "        y -= int(direction[1])\n",
    "    elif direction[0].upper() == \"LEFT\":\n",
    "        x -= int(direction[1])\n",
    "    else:\n",
    "        print(\"Invalid input\")\n",
    "position = float((x**2+y**2)**0.5)\n",
    "print(round(position))"
   ]
  },
  {
   "cell_type": "code",
   "execution_count": null,
   "metadata": {},
   "outputs": [],
   "source": []
  }
 ],
 "metadata": {
  "kernelspec": {
   "display_name": "Python 3",
   "language": "python",
   "name": "python3"
  },
  "language_info": {
   "codemirror_mode": {
    "name": "ipython",
    "version": 3
   },
   "file_extension": ".py",
   "mimetype": "text/x-python",
   "name": "python",
   "nbconvert_exporter": "python",
   "pygments_lexer": "ipython3",
   "version": "3.7.6"
  }
 },
 "nbformat": 4,
 "nbformat_minor": 4
}
