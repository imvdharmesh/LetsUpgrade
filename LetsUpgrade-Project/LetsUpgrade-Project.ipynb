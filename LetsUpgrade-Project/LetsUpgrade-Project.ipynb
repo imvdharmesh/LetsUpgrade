{
 "cells": [
  {
   "cell_type": "markdown",
   "metadata": {
    "id": "5G9492BZYoon"
   },
   "source": [
    "# Project - PUBG\r\n",
    "## Introduction\r\n",
    "PUBG is a very popular \"Battle Royale\" survival-shooter game, keeping this in mind and the genre of dataset expected, we start to check what the variables mean."
   ]
  },
  {
   "cell_type": "code",
   "execution_count": 38,
   "metadata": {
    "executionInfo": {
     "elapsed": 4677,
     "status": "ok",
     "timestamp": 1611845862568,
     "user": {
      "displayName": "Dharmesh Vishwakarma",
      "photoUrl": "https://lh3.googleusercontent.com/a-/AOh14GgsjExmwoV7Svn4GNr2q8GkJzjtYfnYqQibFHnwrZs=s64",
      "userId": "06241123650944617707"
     },
     "user_tz": -330
    },
    "id": "YWhnnzbGYoos"
   },
   "outputs": [],
   "source": [
    "import numpy as np #importing numpy\n",
    "import pandas as pd #importing pandas\n",
    "import matplotlib.pyplot as plt #importing matplotlib \n",
    "import seaborn as sns #importing seaborn"
   ]
  },
  {
   "cell_type": "markdown",
   "metadata": {
    "id": "hu1euGW2Yoov"
   },
   "source": [
    "## Task: 1. Read the dataset."
   ]
  },
  {
   "cell_type": "code",
   "execution_count": 39,
   "metadata": {
    "colab": {
     "base_uri": "https://localhost:8080/",
     "height": 439
    },
    "executionInfo": {
     "elapsed": 4616,
     "status": "ok",
     "timestamp": 1611845862573,
     "user": {
      "displayName": "Dharmesh Vishwakarma",
      "photoUrl": "https://lh3.googleusercontent.com/a-/AOh14GgsjExmwoV7Svn4GNr2q8GkJzjtYfnYqQibFHnwrZs=s64",
      "userId": "06241123650944617707"
     },
     "user_tz": -330
    },
    "id": "7MfetrwWYooz",
    "outputId": "83b5a92d-900a-4928-bfb0-c948839fbc4f"
   },
   "outputs": [
    {
     "data": {
      "text/html": [
       "<div>\n",
       "<style scoped>\n",
       "    .dataframe tbody tr th:only-of-type {\n",
       "        vertical-align: middle;\n",
       "    }\n",
       "\n",
       "    .dataframe tbody tr th {\n",
       "        vertical-align: top;\n",
       "    }\n",
       "\n",
       "    .dataframe thead th {\n",
       "        text-align: right;\n",
       "    }\n",
       "</style>\n",
       "<table border=\"1\" class=\"dataframe\">\n",
       "  <thead>\n",
       "    <tr style=\"text-align: right;\">\n",
       "      <th></th>\n",
       "      <th>Id</th>\n",
       "      <th>groupId</th>\n",
       "      <th>matchId</th>\n",
       "      <th>assists</th>\n",
       "      <th>boosts</th>\n",
       "      <th>damageDealt</th>\n",
       "      <th>DBNOs</th>\n",
       "      <th>headshotKills</th>\n",
       "      <th>heals</th>\n",
       "      <th>killPlace</th>\n",
       "      <th>killPoints</th>\n",
       "      <th>kills</th>\n",
       "      <th>killStreaks</th>\n",
       "      <th>longestKill</th>\n",
       "      <th>matchDuration</th>\n",
       "      <th>matchType</th>\n",
       "      <th>maxPlace</th>\n",
       "      <th>numGroups</th>\n",
       "      <th>rankPoints</th>\n",
       "      <th>revives</th>\n",
       "      <th>rideDistance</th>\n",
       "      <th>roadKills</th>\n",
       "      <th>swimDistance</th>\n",
       "      <th>teamKills</th>\n",
       "      <th>vehicleDestroys</th>\n",
       "      <th>walkDistance</th>\n",
       "      <th>weaponsAcquired</th>\n",
       "      <th>winPoints</th>\n",
       "      <th>winPlacePerc</th>\n",
       "    </tr>\n",
       "  </thead>\n",
       "  <tbody>\n",
       "    <tr>\n",
       "      <th>0</th>\n",
       "      <td>2f262dd9795e60</td>\n",
       "      <td>78437bcd91d40e</td>\n",
       "      <td>d5db3a49eb2955</td>\n",
       "      <td>0</td>\n",
       "      <td>0</td>\n",
       "      <td>0.0</td>\n",
       "      <td>0</td>\n",
       "      <td>0</td>\n",
       "      <td>0</td>\n",
       "      <td>92</td>\n",
       "      <td>1126</td>\n",
       "      <td>0</td>\n",
       "      <td>0</td>\n",
       "      <td>0.000</td>\n",
       "      <td>1376</td>\n",
       "      <td>squad-fpp</td>\n",
       "      <td>29</td>\n",
       "      <td>28</td>\n",
       "      <td>-1</td>\n",
       "      <td>0</td>\n",
       "      <td>0.0</td>\n",
       "      <td>0</td>\n",
       "      <td>0.0</td>\n",
       "      <td>0</td>\n",
       "      <td>0</td>\n",
       "      <td>0.00</td>\n",
       "      <td>0</td>\n",
       "      <td>1470</td>\n",
       "      <td>0.0000</td>\n",
       "    </tr>\n",
       "    <tr>\n",
       "      <th>1</th>\n",
       "      <td>a32847cf5bf34b</td>\n",
       "      <td>85b7ce5a12e10b</td>\n",
       "      <td>65223f05c7fdb4</td>\n",
       "      <td>0</td>\n",
       "      <td>0</td>\n",
       "      <td>163.2</td>\n",
       "      <td>1</td>\n",
       "      <td>1</td>\n",
       "      <td>0</td>\n",
       "      <td>42</td>\n",
       "      <td>1309</td>\n",
       "      <td>1</td>\n",
       "      <td>1</td>\n",
       "      <td>6.589</td>\n",
       "      <td>1370</td>\n",
       "      <td>squad-fpp</td>\n",
       "      <td>28</td>\n",
       "      <td>28</td>\n",
       "      <td>-1</td>\n",
       "      <td>0</td>\n",
       "      <td>0.0</td>\n",
       "      <td>0</td>\n",
       "      <td>0.0</td>\n",
       "      <td>0</td>\n",
       "      <td>0</td>\n",
       "      <td>132.70</td>\n",
       "      <td>2</td>\n",
       "      <td>1531</td>\n",
       "      <td>0.2222</td>\n",
       "    </tr>\n",
       "    <tr>\n",
       "      <th>2</th>\n",
       "      <td>1b1900a9990396</td>\n",
       "      <td>edf80d6523380a</td>\n",
       "      <td>1cadec4534f30a</td>\n",
       "      <td>0</td>\n",
       "      <td>3</td>\n",
       "      <td>278.7</td>\n",
       "      <td>2</td>\n",
       "      <td>1</td>\n",
       "      <td>8</td>\n",
       "      <td>16</td>\n",
       "      <td>0</td>\n",
       "      <td>2</td>\n",
       "      <td>1</td>\n",
       "      <td>23.070</td>\n",
       "      <td>1381</td>\n",
       "      <td>squad-fpp</td>\n",
       "      <td>29</td>\n",
       "      <td>27</td>\n",
       "      <td>1479</td>\n",
       "      <td>3</td>\n",
       "      <td>0.0</td>\n",
       "      <td>0</td>\n",
       "      <td>0.0</td>\n",
       "      <td>0</td>\n",
       "      <td>0</td>\n",
       "      <td>3591.00</td>\n",
       "      <td>10</td>\n",
       "      <td>0</td>\n",
       "      <td>0.8571</td>\n",
       "    </tr>\n",
       "    <tr>\n",
       "      <th>3</th>\n",
       "      <td>f589dd03b60bf2</td>\n",
       "      <td>804ab5e5585558</td>\n",
       "      <td>c4a5676dc91604</td>\n",
       "      <td>0</td>\n",
       "      <td>0</td>\n",
       "      <td>191.9</td>\n",
       "      <td>1</td>\n",
       "      <td>0</td>\n",
       "      <td>0</td>\n",
       "      <td>31</td>\n",
       "      <td>0</td>\n",
       "      <td>1</td>\n",
       "      <td>1</td>\n",
       "      <td>24.890</td>\n",
       "      <td>1708</td>\n",
       "      <td>squad</td>\n",
       "      <td>27</td>\n",
       "      <td>25</td>\n",
       "      <td>1500</td>\n",
       "      <td>0</td>\n",
       "      <td>0.0</td>\n",
       "      <td>0</td>\n",
       "      <td>0.0</td>\n",
       "      <td>0</td>\n",
       "      <td>0</td>\n",
       "      <td>332.70</td>\n",
       "      <td>3</td>\n",
       "      <td>0</td>\n",
       "      <td>0.3462</td>\n",
       "    </tr>\n",
       "    <tr>\n",
       "      <th>4</th>\n",
       "      <td>c23c4cc5b78b35</td>\n",
       "      <td>b3e2cd169ed920</td>\n",
       "      <td>cd595700a01bfa</td>\n",
       "      <td>0</td>\n",
       "      <td>0</td>\n",
       "      <td>100.0</td>\n",
       "      <td>1</td>\n",
       "      <td>0</td>\n",
       "      <td>0</td>\n",
       "      <td>87</td>\n",
       "      <td>1332</td>\n",
       "      <td>0</td>\n",
       "      <td>0</td>\n",
       "      <td>0.000</td>\n",
       "      <td>1807</td>\n",
       "      <td>squad-fpp</td>\n",
       "      <td>30</td>\n",
       "      <td>30</td>\n",
       "      <td>-1</td>\n",
       "      <td>0</td>\n",
       "      <td>0.0</td>\n",
       "      <td>0</td>\n",
       "      <td>0.0</td>\n",
       "      <td>0</td>\n",
       "      <td>0</td>\n",
       "      <td>252.70</td>\n",
       "      <td>3</td>\n",
       "      <td>1557</td>\n",
       "      <td>0.0690</td>\n",
       "    </tr>\n",
       "    <tr>\n",
       "      <th>...</th>\n",
       "      <td>...</td>\n",
       "      <td>...</td>\n",
       "      <td>...</td>\n",
       "      <td>...</td>\n",
       "      <td>...</td>\n",
       "      <td>...</td>\n",
       "      <td>...</td>\n",
       "      <td>...</td>\n",
       "      <td>...</td>\n",
       "      <td>...</td>\n",
       "      <td>...</td>\n",
       "      <td>...</td>\n",
       "      <td>...</td>\n",
       "      <td>...</td>\n",
       "      <td>...</td>\n",
       "      <td>...</td>\n",
       "      <td>...</td>\n",
       "      <td>...</td>\n",
       "      <td>...</td>\n",
       "      <td>...</td>\n",
       "      <td>...</td>\n",
       "      <td>...</td>\n",
       "      <td>...</td>\n",
       "      <td>...</td>\n",
       "      <td>...</td>\n",
       "      <td>...</td>\n",
       "      <td>...</td>\n",
       "      <td>...</td>\n",
       "      <td>...</td>\n",
       "    </tr>\n",
       "    <tr>\n",
       "      <th>9995</th>\n",
       "      <td>ef4f474acd8e85</td>\n",
       "      <td>2eca2a8391f75d</td>\n",
       "      <td>492ecdfae90b46</td>\n",
       "      <td>0</td>\n",
       "      <td>3</td>\n",
       "      <td>204.5</td>\n",
       "      <td>1</td>\n",
       "      <td>0</td>\n",
       "      <td>0</td>\n",
       "      <td>17</td>\n",
       "      <td>1033</td>\n",
       "      <td>2</td>\n",
       "      <td>1</td>\n",
       "      <td>13.270</td>\n",
       "      <td>1288</td>\n",
       "      <td>squad-fpp</td>\n",
       "      <td>31</td>\n",
       "      <td>30</td>\n",
       "      <td>-1</td>\n",
       "      <td>3</td>\n",
       "      <td>0.0</td>\n",
       "      <td>0</td>\n",
       "      <td>0.0</td>\n",
       "      <td>0</td>\n",
       "      <td>0</td>\n",
       "      <td>1648.00</td>\n",
       "      <td>4</td>\n",
       "      <td>1471</td>\n",
       "      <td>0.8333</td>\n",
       "    </tr>\n",
       "    <tr>\n",
       "      <th>9996</th>\n",
       "      <td>cf0bf82fb4d80e</td>\n",
       "      <td>2eaf2765f93adb</td>\n",
       "      <td>14bffd71e96320</td>\n",
       "      <td>0</td>\n",
       "      <td>0</td>\n",
       "      <td>0.0</td>\n",
       "      <td>0</td>\n",
       "      <td>0</td>\n",
       "      <td>0</td>\n",
       "      <td>49</td>\n",
       "      <td>1000</td>\n",
       "      <td>0</td>\n",
       "      <td>0</td>\n",
       "      <td>0.000</td>\n",
       "      <td>1906</td>\n",
       "      <td>duo-fpp</td>\n",
       "      <td>47</td>\n",
       "      <td>44</td>\n",
       "      <td>-1</td>\n",
       "      <td>0</td>\n",
       "      <td>0.0</td>\n",
       "      <td>0</td>\n",
       "      <td>0.0</td>\n",
       "      <td>0</td>\n",
       "      <td>0</td>\n",
       "      <td>897.10</td>\n",
       "      <td>6</td>\n",
       "      <td>1500</td>\n",
       "      <td>0.7174</td>\n",
       "    </tr>\n",
       "    <tr>\n",
       "      <th>9997</th>\n",
       "      <td>a0a31a0b1dcbe1</td>\n",
       "      <td>8d50c64ccc5071</td>\n",
       "      <td>147e4bbb62e3bb</td>\n",
       "      <td>0</td>\n",
       "      <td>0</td>\n",
       "      <td>0.0</td>\n",
       "      <td>0</td>\n",
       "      <td>0</td>\n",
       "      <td>0</td>\n",
       "      <td>83</td>\n",
       "      <td>1334</td>\n",
       "      <td>0</td>\n",
       "      <td>0</td>\n",
       "      <td>0.000</td>\n",
       "      <td>1344</td>\n",
       "      <td>duo-fpp</td>\n",
       "      <td>49</td>\n",
       "      <td>49</td>\n",
       "      <td>-1</td>\n",
       "      <td>0</td>\n",
       "      <td>0.0</td>\n",
       "      <td>0</td>\n",
       "      <td>0.0</td>\n",
       "      <td>0</td>\n",
       "      <td>0</td>\n",
       "      <td>188.20</td>\n",
       "      <td>2</td>\n",
       "      <td>1434</td>\n",
       "      <td>0.2083</td>\n",
       "    </tr>\n",
       "    <tr>\n",
       "      <th>9998</th>\n",
       "      <td>f6874657399d69</td>\n",
       "      <td>d31843d7e62ccb</td>\n",
       "      <td>662567dcf280f5</td>\n",
       "      <td>0</td>\n",
       "      <td>0</td>\n",
       "      <td>0.0</td>\n",
       "      <td>0</td>\n",
       "      <td>0</td>\n",
       "      <td>0</td>\n",
       "      <td>82</td>\n",
       "      <td>1335</td>\n",
       "      <td>0</td>\n",
       "      <td>0</td>\n",
       "      <td>0.000</td>\n",
       "      <td>1355</td>\n",
       "      <td>duo-fpp</td>\n",
       "      <td>50</td>\n",
       "      <td>50</td>\n",
       "      <td>-1</td>\n",
       "      <td>0</td>\n",
       "      <td>0.0</td>\n",
       "      <td>0</td>\n",
       "      <td>0.0</td>\n",
       "      <td>0</td>\n",
       "      <td>0</td>\n",
       "      <td>108.10</td>\n",
       "      <td>5</td>\n",
       "      <td>1534</td>\n",
       "      <td>0.2449</td>\n",
       "    </tr>\n",
       "    <tr>\n",
       "      <th>9999</th>\n",
       "      <td>90359b0b8f8b0d</td>\n",
       "      <td>61d5b1bb8da43f</td>\n",
       "      <td>258bfa48d88014</td>\n",
       "      <td>0</td>\n",
       "      <td>0</td>\n",
       "      <td>0.0</td>\n",
       "      <td>0</td>\n",
       "      <td>0</td>\n",
       "      <td>0</td>\n",
       "      <td>78</td>\n",
       "      <td>0</td>\n",
       "      <td>0</td>\n",
       "      <td>0</td>\n",
       "      <td>0.000</td>\n",
       "      <td>1416</td>\n",
       "      <td>solo</td>\n",
       "      <td>97</td>\n",
       "      <td>93</td>\n",
       "      <td>1511</td>\n",
       "      <td>0</td>\n",
       "      <td>0.0</td>\n",
       "      <td>0</td>\n",
       "      <td>0.0</td>\n",
       "      <td>0</td>\n",
       "      <td>0</td>\n",
       "      <td>53.36</td>\n",
       "      <td>1</td>\n",
       "      <td>0</td>\n",
       "      <td>0.1875</td>\n",
       "    </tr>\n",
       "  </tbody>\n",
       "</table>\n",
       "<p>10000 rows × 29 columns</p>\n",
       "</div>"
      ],
      "text/plain": [
       "                  Id         groupId  ... winPoints  winPlacePerc\n",
       "0     2f262dd9795e60  78437bcd91d40e  ...      1470        0.0000\n",
       "1     a32847cf5bf34b  85b7ce5a12e10b  ...      1531        0.2222\n",
       "2     1b1900a9990396  edf80d6523380a  ...         0        0.8571\n",
       "3     f589dd03b60bf2  804ab5e5585558  ...         0        0.3462\n",
       "4     c23c4cc5b78b35  b3e2cd169ed920  ...      1557        0.0690\n",
       "...              ...             ...  ...       ...           ...\n",
       "9995  ef4f474acd8e85  2eca2a8391f75d  ...      1471        0.8333\n",
       "9996  cf0bf82fb4d80e  2eaf2765f93adb  ...      1500        0.7174\n",
       "9997  a0a31a0b1dcbe1  8d50c64ccc5071  ...      1434        0.2083\n",
       "9998  f6874657399d69  d31843d7e62ccb  ...      1534        0.2449\n",
       "9999  90359b0b8f8b0d  61d5b1bb8da43f  ...         0        0.1875\n",
       "\n",
       "[10000 rows x 29 columns]"
      ]
     },
     "execution_count": 39,
     "metadata": {
      "tags": []
     },
     "output_type": "execute_result"
    }
   ],
   "source": [
    "url = \"https://raw.githubusercontent.com/imvdharmesh/LetsUpgrade/main/LetsUpgrade-Project/pubg.csv\"\n",
    "df = pd.read_csv(url) #read the csv file\n",
    "df"
   ]
  },
  {
   "cell_type": "code",
   "execution_count": 39,
   "metadata": {
    "executionInfo": {
     "elapsed": 4597,
     "status": "ok",
     "timestamp": 1611845862578,
     "user": {
      "displayName": "Dharmesh Vishwakarma",
      "photoUrl": "https://lh3.googleusercontent.com/a-/AOh14GgsjExmwoV7Svn4GNr2q8GkJzjtYfnYqQibFHnwrZs=s64",
      "userId": "06241123650944617707"
     },
     "user_tz": -330
    },
    "id": "OdxnyWVyYoqg"
   },
   "outputs": [],
   "source": []
  },
  {
   "cell_type": "markdown",
   "metadata": {
    "id": "Rw7d6s18Yoqi"
   },
   "source": [
    "## Task: 2. Check the datatype of all the columns."
   ]
  },
  {
   "cell_type": "code",
   "execution_count": 40,
   "metadata": {
    "colab": {
     "base_uri": "https://localhost:8080/"
    },
    "executionInfo": {
     "elapsed": 4514,
     "status": "ok",
     "timestamp": 1611845862582,
     "user": {
      "displayName": "Dharmesh Vishwakarma",
      "photoUrl": "https://lh3.googleusercontent.com/a-/AOh14GgsjExmwoV7Svn4GNr2q8GkJzjtYfnYqQibFHnwrZs=s64",
      "userId": "06241123650944617707"
     },
     "user_tz": -330
    },
    "id": "_6IJsklQYoql",
    "outputId": "fe19c127-dd61-4f80-96d9-0e4609daba27"
   },
   "outputs": [
    {
     "data": {
      "text/plain": [
       "Id                  object\n",
       "groupId             object\n",
       "matchId             object\n",
       "assists              int64\n",
       "boosts               int64\n",
       "damageDealt        float64\n",
       "DBNOs                int64\n",
       "headshotKills        int64\n",
       "heals                int64\n",
       "killPlace            int64\n",
       "killPoints           int64\n",
       "kills                int64\n",
       "killStreaks          int64\n",
       "longestKill        float64\n",
       "matchDuration        int64\n",
       "matchType           object\n",
       "maxPlace             int64\n",
       "numGroups            int64\n",
       "rankPoints           int64\n",
       "revives              int64\n",
       "rideDistance       float64\n",
       "roadKills            int64\n",
       "swimDistance       float64\n",
       "teamKills            int64\n",
       "vehicleDestroys      int64\n",
       "walkDistance       float64\n",
       "weaponsAcquired      int64\n",
       "winPoints            int64\n",
       "winPlacePerc       float64\n",
       "dtype: object"
      ]
     },
     "execution_count": 40,
     "metadata": {
      "tags": []
     },
     "output_type": "execute_result"
    }
   ],
   "source": [
    "df.dtypes"
   ]
  },
  {
   "cell_type": "code",
   "execution_count": 40,
   "metadata": {
    "executionInfo": {
     "elapsed": 4511,
     "status": "ok",
     "timestamp": 1611845862589,
     "user": {
      "displayName": "Dharmesh Vishwakarma",
      "photoUrl": "https://lh3.googleusercontent.com/a-/AOh14GgsjExmwoV7Svn4GNr2q8GkJzjtYfnYqQibFHnwrZs=s64",
      "userId": "06241123650944617707"
     },
     "user_tz": -330
    },
    "id": "hq_K2AR1Yoqo"
   },
   "outputs": [],
   "source": []
  },
  {
   "cell_type": "markdown",
   "metadata": {
    "id": "NfheICz2Yoqp"
   },
   "source": [
    "### Task: 3. Find the summary of all the numerical columns and write your findings about it."
   ]
  },
  {
   "cell_type": "code",
   "execution_count": 41,
   "metadata": {
    "colab": {
     "base_uri": "https://localhost:8080/",
     "height": 317
    },
    "executionInfo": {
     "elapsed": 4453,
     "status": "ok",
     "timestamp": 1611845862594,
     "user": {
      "displayName": "Dharmesh Vishwakarma",
      "photoUrl": "https://lh3.googleusercontent.com/a-/AOh14GgsjExmwoV7Svn4GNr2q8GkJzjtYfnYqQibFHnwrZs=s64",
      "userId": "06241123650944617707"
     },
     "user_tz": -330
    },
    "id": "RwAI5LiBYoqr",
    "outputId": "8b596d9f-cfc3-4b3f-a1c4-c0498053fff0"
   },
   "outputs": [
    {
     "data": {
      "text/html": [
       "<div>\n",
       "<style scoped>\n",
       "    .dataframe tbody tr th:only-of-type {\n",
       "        vertical-align: middle;\n",
       "    }\n",
       "\n",
       "    .dataframe tbody tr th {\n",
       "        vertical-align: top;\n",
       "    }\n",
       "\n",
       "    .dataframe thead th {\n",
       "        text-align: right;\n",
       "    }\n",
       "</style>\n",
       "<table border=\"1\" class=\"dataframe\">\n",
       "  <thead>\n",
       "    <tr style=\"text-align: right;\">\n",
       "      <th></th>\n",
       "      <th>assists</th>\n",
       "      <th>boosts</th>\n",
       "      <th>damageDealt</th>\n",
       "      <th>DBNOs</th>\n",
       "      <th>headshotKills</th>\n",
       "      <th>heals</th>\n",
       "      <th>killPlace</th>\n",
       "      <th>killPoints</th>\n",
       "      <th>kills</th>\n",
       "      <th>killStreaks</th>\n",
       "      <th>longestKill</th>\n",
       "      <th>matchDuration</th>\n",
       "      <th>maxPlace</th>\n",
       "      <th>numGroups</th>\n",
       "      <th>rankPoints</th>\n",
       "      <th>revives</th>\n",
       "      <th>rideDistance</th>\n",
       "      <th>roadKills</th>\n",
       "      <th>swimDistance</th>\n",
       "      <th>teamKills</th>\n",
       "      <th>vehicleDestroys</th>\n",
       "      <th>walkDistance</th>\n",
       "      <th>weaponsAcquired</th>\n",
       "      <th>winPoints</th>\n",
       "      <th>winPlacePerc</th>\n",
       "    </tr>\n",
       "  </thead>\n",
       "  <tbody>\n",
       "    <tr>\n",
       "      <th>count</th>\n",
       "      <td>10000.000000</td>\n",
       "      <td>10000.000000</td>\n",
       "      <td>10000.000000</td>\n",
       "      <td>10000.00000</td>\n",
       "      <td>10000.000000</td>\n",
       "      <td>10000.000000</td>\n",
       "      <td>10000.000000</td>\n",
       "      <td>10000.000000</td>\n",
       "      <td>10000.000000</td>\n",
       "      <td>10000.000000</td>\n",
       "      <td>10000.000000</td>\n",
       "      <td>10000.000000</td>\n",
       "      <td>10000.000000</td>\n",
       "      <td>10000.000000</td>\n",
       "      <td>10000.000000</td>\n",
       "      <td>10000.000000</td>\n",
       "      <td>10000.000000</td>\n",
       "      <td>10000.000000</td>\n",
       "      <td>10000.000000</td>\n",
       "      <td>10000.000000</td>\n",
       "      <td>10000.000000</td>\n",
       "      <td>10000.000000</td>\n",
       "      <td>10000.00000</td>\n",
       "      <td>10000.0000</td>\n",
       "      <td>10000.000000</td>\n",
       "    </tr>\n",
       "    <tr>\n",
       "      <th>mean</th>\n",
       "      <td>0.234600</td>\n",
       "      <td>1.088500</td>\n",
       "      <td>129.211264</td>\n",
       "      <td>0.64400</td>\n",
       "      <td>0.221700</td>\n",
       "      <td>1.354000</td>\n",
       "      <td>47.663100</td>\n",
       "      <td>506.970200</td>\n",
       "      <td>0.913400</td>\n",
       "      <td>0.543800</td>\n",
       "      <td>23.272333</td>\n",
       "      <td>1575.398000</td>\n",
       "      <td>44.655500</td>\n",
       "      <td>43.151300</td>\n",
       "      <td>889.699600</td>\n",
       "      <td>0.160200</td>\n",
       "      <td>600.693584</td>\n",
       "      <td>0.004200</td>\n",
       "      <td>4.385917</td>\n",
       "      <td>0.024400</td>\n",
       "      <td>0.007700</td>\n",
       "      <td>1130.008410</td>\n",
       "      <td>3.63590</td>\n",
       "      <td>609.3440</td>\n",
       "      <td>0.469926</td>\n",
       "    </tr>\n",
       "    <tr>\n",
       "      <th>std</th>\n",
       "      <td>0.575149</td>\n",
       "      <td>1.703279</td>\n",
       "      <td>167.193945</td>\n",
       "      <td>1.09562</td>\n",
       "      <td>0.577046</td>\n",
       "      <td>2.629102</td>\n",
       "      <td>27.424146</td>\n",
       "      <td>627.297959</td>\n",
       "      <td>1.524117</td>\n",
       "      <td>0.701948</td>\n",
       "      <td>50.536262</td>\n",
       "      <td>258.963515</td>\n",
       "      <td>23.800859</td>\n",
       "      <td>23.272567</td>\n",
       "      <td>738.535034</td>\n",
       "      <td>0.454045</td>\n",
       "      <td>1524.915601</td>\n",
       "      <td>0.074719</td>\n",
       "      <td>30.889620</td>\n",
       "      <td>0.171486</td>\n",
       "      <td>0.089674</td>\n",
       "      <td>1168.597983</td>\n",
       "      <td>2.42209</td>\n",
       "      <td>739.7924</td>\n",
       "      <td>0.304508</td>\n",
       "    </tr>\n",
       "    <tr>\n",
       "      <th>min</th>\n",
       "      <td>0.000000</td>\n",
       "      <td>0.000000</td>\n",
       "      <td>0.000000</td>\n",
       "      <td>0.00000</td>\n",
       "      <td>0.000000</td>\n",
       "      <td>0.000000</td>\n",
       "      <td>1.000000</td>\n",
       "      <td>0.000000</td>\n",
       "      <td>0.000000</td>\n",
       "      <td>0.000000</td>\n",
       "      <td>0.000000</td>\n",
       "      <td>464.000000</td>\n",
       "      <td>2.000000</td>\n",
       "      <td>2.000000</td>\n",
       "      <td>-1.000000</td>\n",
       "      <td>0.000000</td>\n",
       "      <td>0.000000</td>\n",
       "      <td>0.000000</td>\n",
       "      <td>0.000000</td>\n",
       "      <td>0.000000</td>\n",
       "      <td>0.000000</td>\n",
       "      <td>0.000000</td>\n",
       "      <td>0.00000</td>\n",
       "      <td>0.0000</td>\n",
       "      <td>0.000000</td>\n",
       "    </tr>\n",
       "    <tr>\n",
       "      <th>25%</th>\n",
       "      <td>0.000000</td>\n",
       "      <td>0.000000</td>\n",
       "      <td>0.000000</td>\n",
       "      <td>0.00000</td>\n",
       "      <td>0.000000</td>\n",
       "      <td>0.000000</td>\n",
       "      <td>24.000000</td>\n",
       "      <td>0.000000</td>\n",
       "      <td>0.000000</td>\n",
       "      <td>0.000000</td>\n",
       "      <td>0.000000</td>\n",
       "      <td>1366.000000</td>\n",
       "      <td>28.000000</td>\n",
       "      <td>27.000000</td>\n",
       "      <td>-1.000000</td>\n",
       "      <td>0.000000</td>\n",
       "      <td>0.000000</td>\n",
       "      <td>0.000000</td>\n",
       "      <td>0.000000</td>\n",
       "      <td>0.000000</td>\n",
       "      <td>0.000000</td>\n",
       "      <td>151.575000</td>\n",
       "      <td>2.00000</td>\n",
       "      <td>0.0000</td>\n",
       "      <td>0.200000</td>\n",
       "    </tr>\n",
       "    <tr>\n",
       "      <th>50%</th>\n",
       "      <td>0.000000</td>\n",
       "      <td>0.000000</td>\n",
       "      <td>83.805000</td>\n",
       "      <td>0.00000</td>\n",
       "      <td>0.000000</td>\n",
       "      <td>0.000000</td>\n",
       "      <td>48.000000</td>\n",
       "      <td>0.000000</td>\n",
       "      <td>0.000000</td>\n",
       "      <td>0.000000</td>\n",
       "      <td>0.000000</td>\n",
       "      <td>1431.500000</td>\n",
       "      <td>30.000000</td>\n",
       "      <td>30.000000</td>\n",
       "      <td>1444.000000</td>\n",
       "      <td>0.000000</td>\n",
       "      <td>0.000000</td>\n",
       "      <td>0.000000</td>\n",
       "      <td>0.000000</td>\n",
       "      <td>0.000000</td>\n",
       "      <td>0.000000</td>\n",
       "      <td>650.350000</td>\n",
       "      <td>3.00000</td>\n",
       "      <td>0.0000</td>\n",
       "      <td>0.458300</td>\n",
       "    </tr>\n",
       "    <tr>\n",
       "      <th>75%</th>\n",
       "      <td>0.000000</td>\n",
       "      <td>2.000000</td>\n",
       "      <td>185.325000</td>\n",
       "      <td>1.00000</td>\n",
       "      <td>0.000000</td>\n",
       "      <td>2.000000</td>\n",
       "      <td>71.000000</td>\n",
       "      <td>1169.000000</td>\n",
       "      <td>1.000000</td>\n",
       "      <td>1.000000</td>\n",
       "      <td>22.345000</td>\n",
       "      <td>1849.250000</td>\n",
       "      <td>49.000000</td>\n",
       "      <td>47.000000</td>\n",
       "      <td>1500.000000</td>\n",
       "      <td>0.000000</td>\n",
       "      <td>0.000575</td>\n",
       "      <td>0.000000</td>\n",
       "      <td>0.000000</td>\n",
       "      <td>0.000000</td>\n",
       "      <td>0.000000</td>\n",
       "      <td>1923.250000</td>\n",
       "      <td>5.00000</td>\n",
       "      <td>1495.0000</td>\n",
       "      <td>0.735100</td>\n",
       "    </tr>\n",
       "    <tr>\n",
       "      <th>max</th>\n",
       "      <td>7.000000</td>\n",
       "      <td>18.000000</td>\n",
       "      <td>3469.000000</td>\n",
       "      <td>11.00000</td>\n",
       "      <td>14.000000</td>\n",
       "      <td>31.000000</td>\n",
       "      <td>100.000000</td>\n",
       "      <td>1926.000000</td>\n",
       "      <td>35.000000</td>\n",
       "      <td>4.000000</td>\n",
       "      <td>538.600000</td>\n",
       "      <td>2202.000000</td>\n",
       "      <td>100.000000</td>\n",
       "      <td>100.000000</td>\n",
       "      <td>2835.000000</td>\n",
       "      <td>5.000000</td>\n",
       "      <td>28780.000000</td>\n",
       "      <td>3.000000</td>\n",
       "      <td>971.200000</td>\n",
       "      <td>3.000000</td>\n",
       "      <td>2.000000</td>\n",
       "      <td>10490.000000</td>\n",
       "      <td>41.00000</td>\n",
       "      <td>1863.0000</td>\n",
       "      <td>1.000000</td>\n",
       "    </tr>\n",
       "  </tbody>\n",
       "</table>\n",
       "</div>"
      ],
      "text/plain": [
       "            assists        boosts  ...   winPoints  winPlacePerc\n",
       "count  10000.000000  10000.000000  ...  10000.0000  10000.000000\n",
       "mean       0.234600      1.088500  ...    609.3440      0.469926\n",
       "std        0.575149      1.703279  ...    739.7924      0.304508\n",
       "min        0.000000      0.000000  ...      0.0000      0.000000\n",
       "25%        0.000000      0.000000  ...      0.0000      0.200000\n",
       "50%        0.000000      0.000000  ...      0.0000      0.458300\n",
       "75%        0.000000      2.000000  ...   1495.0000      0.735100\n",
       "max        7.000000     18.000000  ...   1863.0000      1.000000\n",
       "\n",
       "[8 rows x 25 columns]"
      ]
     },
     "execution_count": 41,
     "metadata": {
      "tags": []
     },
     "output_type": "execute_result"
    }
   ],
   "source": [
    "df.describe() #summary of all the numerical columns"
   ]
  },
  {
   "cell_type": "code",
   "execution_count": 41,
   "metadata": {
    "executionInfo": {
     "elapsed": 4447,
     "status": "ok",
     "timestamp": 1611845862598,
     "user": {
      "displayName": "Dharmesh Vishwakarma",
      "photoUrl": "https://lh3.googleusercontent.com/a-/AOh14GgsjExmwoV7Svn4GNr2q8GkJzjtYfnYqQibFHnwrZs=s64",
      "userId": "06241123650944617707"
     },
     "user_tz": -330
    },
    "id": "ezMXbH41Yoqw"
   },
   "outputs": [],
   "source": []
  },
  {
   "cell_type": "code",
   "execution_count": 41,
   "metadata": {
    "executionInfo": {
     "elapsed": 4435,
     "status": "ok",
     "timestamp": 1611845862602,
     "user": {
      "displayName": "Dharmesh Vishwakarma",
      "photoUrl": "https://lh3.googleusercontent.com/a-/AOh14GgsjExmwoV7Svn4GNr2q8GkJzjtYfnYqQibFHnwrZs=s64",
      "userId": "06241123650944617707"
     },
     "user_tz": -330
    },
    "id": "mpGDfEuJYoqy"
   },
   "outputs": [],
   "source": []
  },
  {
   "cell_type": "markdown",
   "metadata": {
    "id": "dZUtM9BgYoq0"
   },
   "source": [
    "### Task: 4. The average person kills how many players?"
   ]
  },
  {
   "cell_type": "code",
   "execution_count": 42,
   "metadata": {
    "colab": {
     "base_uri": "https://localhost:8080/"
    },
    "executionInfo": {
     "elapsed": 5217,
     "status": "ok",
     "timestamp": 1611845863428,
     "user": {
      "displayName": "Dharmesh Vishwakarma",
      "photoUrl": "https://lh3.googleusercontent.com/a-/AOh14GgsjExmwoV7Svn4GNr2q8GkJzjtYfnYqQibFHnwrZs=s64",
      "userId": "06241123650944617707"
     },
     "user_tz": -330
    },
    "id": "0BexCF70Yoq2",
    "outputId": "5ae5cca0-1f5e-486b-d066-ee764bb129bc"
   },
   "outputs": [
    {
     "data": {
      "text/plain": [
       "0.9134"
      ]
     },
     "execution_count": 42,
     "metadata": {
      "tags": []
     },
     "output_type": "execute_result"
    }
   ],
   "source": [
    "df['kills'].mean()"
   ]
  },
  {
   "cell_type": "code",
   "execution_count": 42,
   "metadata": {
    "executionInfo": {
     "elapsed": 5198,
     "status": "ok",
     "timestamp": 1611845863435,
     "user": {
      "displayName": "Dharmesh Vishwakarma",
      "photoUrl": "https://lh3.googleusercontent.com/a-/AOh14GgsjExmwoV7Svn4GNr2q8GkJzjtYfnYqQibFHnwrZs=s64",
      "userId": "06241123650944617707"
     },
     "user_tz": -330
    },
    "id": "k3yjozsPYoq6"
   },
   "outputs": [],
   "source": []
  },
  {
   "cell_type": "markdown",
   "metadata": {
    "id": "aKhgyFeFYoq8"
   },
   "source": [
    "### Task: 5. 99% of people have how many kills?"
   ]
  },
  {
   "cell_type": "code",
   "execution_count": 43,
   "metadata": {
    "colab": {
     "base_uri": "https://localhost:8080/"
    },
    "executionInfo": {
     "elapsed": 5147,
     "status": "ok",
     "timestamp": 1611845863442,
     "user": {
      "displayName": "Dharmesh Vishwakarma",
      "photoUrl": "https://lh3.googleusercontent.com/a-/AOh14GgsjExmwoV7Svn4GNr2q8GkJzjtYfnYqQibFHnwrZs=s64",
      "userId": "06241123650944617707"
     },
     "user_tz": -330
    },
    "id": "3CjgmuUSYoq_",
    "outputId": "ad1b6a6e-6c7c-4d0d-897a-db0549d0cf46"
   },
   "outputs": [
    {
     "data": {
      "text/plain": [
       "7.0"
      ]
     },
     "execution_count": 43,
     "metadata": {
      "tags": []
     },
     "output_type": "execute_result"
    }
   ],
   "source": [
    "df[\"kills\"].quantile(0.99)"
   ]
  },
  {
   "cell_type": "code",
   "execution_count": 43,
   "metadata": {
    "executionInfo": {
     "elapsed": 5142,
     "status": "ok",
     "timestamp": 1611845863446,
     "user": {
      "displayName": "Dharmesh Vishwakarma",
      "photoUrl": "https://lh3.googleusercontent.com/a-/AOh14GgsjExmwoV7Svn4GNr2q8GkJzjtYfnYqQibFHnwrZs=s64",
      "userId": "06241123650944617707"
     },
     "user_tz": -330
    },
    "id": "vgBcfiICYorB"
   },
   "outputs": [],
   "source": []
  },
  {
   "cell_type": "markdown",
   "metadata": {
    "id": "bFxfRqxUYorD"
   },
   "source": [
    "### Task: 6. The most kills ever recorded are how much?"
   ]
  },
  {
   "cell_type": "code",
   "execution_count": 44,
   "metadata": {
    "colab": {
     "base_uri": "https://localhost:8080/"
    },
    "executionInfo": {
     "elapsed": 5104,
     "status": "ok",
     "timestamp": 1611845863450,
     "user": {
      "displayName": "Dharmesh Vishwakarma",
      "photoUrl": "https://lh3.googleusercontent.com/a-/AOh14GgsjExmwoV7Svn4GNr2q8GkJzjtYfnYqQibFHnwrZs=s64",
      "userId": "06241123650944617707"
     },
     "user_tz": -330
    },
    "id": "xau8LuwlYorE",
    "outputId": "2ac50c10-c791-448d-8b07-459075991eb4"
   },
   "outputs": [
    {
     "data": {
      "text/plain": [
       "35"
      ]
     },
     "execution_count": 44,
     "metadata": {
      "tags": []
     },
     "output_type": "execute_result"
    }
   ],
   "source": [
    "df['kills'].max()"
   ]
  },
  {
   "cell_type": "code",
   "execution_count": 44,
   "metadata": {
    "executionInfo": {
     "elapsed": 5099,
     "status": "ok",
     "timestamp": 1611845863454,
     "user": {
      "displayName": "Dharmesh Vishwakarma",
      "photoUrl": "https://lh3.googleusercontent.com/a-/AOh14GgsjExmwoV7Svn4GNr2q8GkJzjtYfnYqQibFHnwrZs=s64",
      "userId": "06241123650944617707"
     },
     "user_tz": -330
    },
    "id": "tlES20DgYorG"
   },
   "outputs": [],
   "source": []
  },
  {
   "cell_type": "markdown",
   "metadata": {
    "id": "gRnNbaVuYorH"
   },
   "source": [
    "### Task: 7. Print all the columns of the dataframe. "
   ]
  },
  {
   "cell_type": "code",
   "execution_count": 45,
   "metadata": {
    "colab": {
     "base_uri": "https://localhost:8080/"
    },
    "executionInfo": {
     "elapsed": 5067,
     "status": "ok",
     "timestamp": 1611845863460,
     "user": {
      "displayName": "Dharmesh Vishwakarma",
      "photoUrl": "https://lh3.googleusercontent.com/a-/AOh14GgsjExmwoV7Svn4GNr2q8GkJzjtYfnYqQibFHnwrZs=s64",
      "userId": "06241123650944617707"
     },
     "user_tz": -330
    },
    "id": "ssZii6_XYorJ",
    "outputId": "a68e45f4-915e-441f-ccae-3707ee22e701"
   },
   "outputs": [
    {
     "data": {
      "text/plain": [
       "Index(['Id', 'groupId', 'matchId', 'assists', 'boosts', 'damageDealt', 'DBNOs',\n",
       "       'headshotKills', 'heals', 'killPlace', 'killPoints', 'kills',\n",
       "       'killStreaks', 'longestKill', 'matchDuration', 'matchType', 'maxPlace',\n",
       "       'numGroups', 'rankPoints', 'revives', 'rideDistance', 'roadKills',\n",
       "       'swimDistance', 'teamKills', 'vehicleDestroys', 'walkDistance',\n",
       "       'weaponsAcquired', 'winPoints', 'winPlacePerc'],\n",
       "      dtype='object')"
      ]
     },
     "execution_count": 45,
     "metadata": {
      "tags": []
     },
     "output_type": "execute_result"
    }
   ],
   "source": [
    "df.columns"
   ]
  },
  {
   "cell_type": "code",
   "execution_count": 45,
   "metadata": {
    "executionInfo": {
     "elapsed": 5071,
     "status": "ok",
     "timestamp": 1611845863473,
     "user": {
      "displayName": "Dharmesh Vishwakarma",
      "photoUrl": "https://lh3.googleusercontent.com/a-/AOh14GgsjExmwoV7Svn4GNr2q8GkJzjtYfnYqQibFHnwrZs=s64",
      "userId": "06241123650944617707"
     },
     "user_tz": -330
    },
    "id": "7BwAleJKYorL"
   },
   "outputs": [],
   "source": []
  },
  {
   "cell_type": "markdown",
   "metadata": {
    "id": "Mz3Jk1a0YorN"
   },
   "source": [
    "### Task: 8. Comment on distribution of the match's duration. Use seaborn."
   ]
  },
  {
   "cell_type": "code",
   "execution_count": 46,
   "metadata": {
    "colab": {
     "base_uri": "https://localhost:8080/",
     "height": 513
    },
    "executionInfo": {
     "elapsed": 5052,
     "status": "ok",
     "timestamp": 1611845863491,
     "user": {
      "displayName": "Dharmesh Vishwakarma",
      "photoUrl": "https://lh3.googleusercontent.com/a-/AOh14GgsjExmwoV7Svn4GNr2q8GkJzjtYfnYqQibFHnwrZs=s64",
      "userId": "06241123650944617707"
     },
     "user_tz": -330
    },
    "id": "cECBVOiJYorP",
    "outputId": "99270a81-c5fa-4504-c78b-87c726ade6a9"
   },
   "outputs": [
    {
     "name": "stderr",
     "output_type": "stream",
     "text": [
      "/usr/local/lib/python3.6/dist-packages/seaborn/distributions.py:2557: FutureWarning: `distplot` is a deprecated function and will be removed in a future version. Please adapt your code to use either `displot` (a figure-level function with similar flexibility) or `histplot` (an axes-level function for histograms).\n",
      "  warnings.warn(msg, FutureWarning)\n"
     ]
    },
    {
     "data": {
      "image/png": "[encoded data removed]",
      "text/plain": [
       "<Figure size 640x480 with 1 Axes>"
      ]
     },
     "metadata": {
      "tags": []
     },
     "output_type": "display_data"
    }
   ],
   "source": [
    "sns.distplot(df[\"matchDuration\"]);"
   ]
  },
  {
   "cell_type": "markdown",
   "metadata": {
    "id": "8CNSYpHvYorS"
   },
   "source": [
    "Macth duration mostly high during 1250 to 1500."
   ]
  },
  {
   "cell_type": "code",
   "execution_count": 46,
   "metadata": {
    "executionInfo": {
     "elapsed": 5045,
     "status": "ok",
     "timestamp": 1611845863501,
     "user": {
      "displayName": "Dharmesh Vishwakarma",
      "photoUrl": "https://lh3.googleusercontent.com/a-/AOh14GgsjExmwoV7Svn4GNr2q8GkJzjtYfnYqQibFHnwrZs=s64",
      "userId": "06241123650944617707"
     },
     "user_tz": -330
    },
    "id": "v77mKt_nYorU"
   },
   "outputs": [],
   "source": []
  },
  {
   "cell_type": "markdown",
   "metadata": {
    "id": "MRlOfbcIYorV"
   },
   "source": [
    "### Task: 9. Comment on distribution of the walk distance. Use seaborn."
   ]
  },
  {
   "cell_type": "code",
   "execution_count": 47,
   "metadata": {
    "colab": {
     "base_uri": "https://localhost:8080/",
     "height": 513
    },
    "executionInfo": {
     "elapsed": 5018,
     "status": "ok",
     "timestamp": 1611845863511,
     "user": {
      "displayName": "Dharmesh Vishwakarma",
      "photoUrl": "https://lh3.googleusercontent.com/a-/AOh14GgsjExmwoV7Svn4GNr2q8GkJzjtYfnYqQibFHnwrZs=s64",
      "userId": "06241123650944617707"
     },
     "user_tz": -330
    },
    "id": "TMJXw5DFYorW",
    "outputId": "93530149-07ed-497d-c337-83e5ba00a5bd"
   },
   "outputs": [
    {
     "name": "stderr",
     "output_type": "stream",
     "text": [
      "/usr/local/lib/python3.6/dist-packages/seaborn/distributions.py:2557: FutureWarning: `distplot` is a deprecated function and will be removed in a future version. Please adapt your code to use either `displot` (a figure-level function with similar flexibility) or `histplot` (an axes-level function for histograms).\n",
      "  warnings.warn(msg, FutureWarning)\n"
     ]
    },
    {
     "data": {
      "image/png": "[encoded data removed]",
      "text/plain": [
       "<Figure size 640x480 with 1 Axes>"
      ]
     },
     "metadata": {
      "tags": []
     },
     "output_type": "display_data"
    }
   ],
   "source": [
    "sns.distplot( df['walkDistance'] );"
   ]
  },
  {
   "cell_type": "markdown",
   "metadata": {
    "id": "xiNTjbr6YorX"
   },
   "source": [
    "Most of the walking distance lyes between 0 to 2000"
   ]
  },
  {
   "cell_type": "code",
   "execution_count": 47,
   "metadata": {
    "executionInfo": {
     "elapsed": 4969,
     "status": "ok",
     "timestamp": 1611845863514,
     "user": {
      "displayName": "Dharmesh Vishwakarma",
      "photoUrl": "https://lh3.googleusercontent.com/a-/AOh14GgsjExmwoV7Svn4GNr2q8GkJzjtYfnYqQibFHnwrZs=s64",
      "userId": "06241123650944617707"
     },
     "user_tz": -330
    },
    "id": "9pydbeZFYorZ"
   },
   "outputs": [],
   "source": []
  },
  {
   "cell_type": "markdown",
   "metadata": {
    "id": "95tDtqhTYora"
   },
   "source": [
    "### Task: 10. Plot distribution of the match's duration vs walk distance one below the other."
   ]
  },
  {
   "cell_type": "code",
   "execution_count": 48,
   "metadata": {
    "colab": {
     "base_uri": "https://localhost:8080/",
     "height": 547
    },
    "executionInfo": {
     "elapsed": 5810,
     "status": "ok",
     "timestamp": 1611845864392,
     "user": {
      "displayName": "Dharmesh Vishwakarma",
      "photoUrl": "https://lh3.googleusercontent.com/a-/AOh14GgsjExmwoV7Svn4GNr2q8GkJzjtYfnYqQibFHnwrZs=s64",
      "userId": "06241123650944617707"
     },
     "user_tz": -330
    },
    "id": "CnFcdvFRYorb",
    "outputId": "389ad3da-8579-4260-99b0-f83bc4783d6b"
   },
   "outputs": [
    {
     "name": "stderr",
     "output_type": "stream",
     "text": [
      "/usr/local/lib/python3.6/dist-packages/seaborn/distributions.py:2557: FutureWarning: `distplot` is a deprecated function and will be removed in a future version. Please adapt your code to use either `displot` (a figure-level function with similar flexibility) or `histplot` (an axes-level function for histograms).\n",
      "  warnings.warn(msg, FutureWarning)\n",
      "/usr/local/lib/python3.6/dist-packages/seaborn/distributions.py:2557: FutureWarning: `distplot` is a deprecated function and will be removed in a future version. Please adapt your code to use either `displot` (a figure-level function with similar flexibility) or `histplot` (an axes-level function for histograms).\n",
      "  warnings.warn(msg, FutureWarning)\n"
     ]
    },
    {
     "data": {
      "image/png": "[encoded data removed]",
      "text/plain": [
       "<Figure size 640x480 with 2 Axes>"
      ]
     },
     "metadata": {
      "tags": []
     },
     "output_type": "display_data"
    }
   ],
   "source": [
    "%matplotlib inline\n",
    "plt.style.use(\"classic\")\n",
    "plt.figure()\n",
    "\n",
    "# ploting for match duration\n",
    "plt.subplot(2,1,1)\n",
    "sns.distplot(df['matchDuration'])\n",
    "plt.xlabel(\"Match Duration\");\n",
    "\n",
    "# ploting for walk duration\n",
    "plt.subplot(2,1,2)\n",
    "sns.distplot(df['walkDistance'])\n",
    "plt.xlabel(\"Walk Distance\");"
   ]
  },
  {
   "cell_type": "code",
   "execution_count": 48,
   "metadata": {
    "executionInfo": {
     "elapsed": 5790,
     "status": "ok",
     "timestamp": 1611845864397,
     "user": {
      "displayName": "Dharmesh Vishwakarma",
      "photoUrl": "https://lh3.googleusercontent.com/a-/AOh14GgsjExmwoV7Svn4GNr2q8GkJzjtYfnYqQibFHnwrZs=s64",
      "userId": "06241123650944617707"
     },
     "user_tz": -330
    },
    "id": "gtOB8L0EYord"
   },
   "outputs": [],
   "source": []
  },
  {
   "cell_type": "markdown",
   "metadata": {
    "id": "lCE4OYYgYorg"
   },
   "source": [
    "### Task: 11. Plot distribution of the match's duration vs walk distance side by side."
   ]
  },
  {
   "cell_type": "code",
   "execution_count": 49,
   "metadata": {
    "colab": {
     "base_uri": "https://localhost:8080/",
     "height": 581
    },
    "executionInfo": {
     "elapsed": 6793,
     "status": "ok",
     "timestamp": 1611845865433,
     "user": {
      "displayName": "Dharmesh Vishwakarma",
      "photoUrl": "https://lh3.googleusercontent.com/a-/AOh14GgsjExmwoV7Svn4GNr2q8GkJzjtYfnYqQibFHnwrZs=s64",
      "userId": "06241123650944617707"
     },
     "user_tz": -330
    },
    "id": "2HcUYWrsYorh",
    "outputId": "78bd7df3-5fa5-41d8-d13b-63a7ad55963b"
   },
   "outputs": [
    {
     "name": "stderr",
     "output_type": "stream",
     "text": [
      "/usr/local/lib/python3.6/dist-packages/seaborn/distributions.py:2557: FutureWarning: `distplot` is a deprecated function and will be removed in a future version. Please adapt your code to use either `displot` (a figure-level function with similar flexibility) or `histplot` (an axes-level function for histograms).\n",
      "  warnings.warn(msg, FutureWarning)\n",
      "/usr/local/lib/python3.6/dist-packages/seaborn/distributions.py:2557: FutureWarning: `distplot` is a deprecated function and will be removed in a future version. Please adapt your code to use either `displot` (a figure-level function with similar flexibility) or `histplot` (an axes-level function for histograms).\n",
      "  warnings.warn(msg, FutureWarning)\n"
     ]
    },
    {
     "data": {
      "image/png": "[encoded data removed]",
      "text/plain": [
       "<Figure size 640x480 with 2 Axes>"
      ]
     },
     "metadata": {
      "tags": []
     },
     "output_type": "display_data"
    }
   ],
   "source": [
    "%matplotlib inline\n",
    "plt.style.use(\"classic\")\n",
    "plt.figure()\n",
    "\n",
    "# ploting for match duration\n",
    "plt.subplot(1,2,1)\n",
    "sns.distplot(df['matchDuration'])\n",
    "plt.xlabel(\"Match Duration\")\n",
    "plt.xticks(rotation=80);\n",
    "\n",
    "# ploting for walk duration\n",
    "plt.subplot(1,2,2)\n",
    "sns.distplot(df['walkDistance'])\n",
    "plt.xlabel(\"Walk Distance\")\n",
    "plt.xticks(rotation=80);"
   ]
  },
  {
   "cell_type": "code",
   "execution_count": 49,
   "metadata": {
    "executionInfo": {
     "elapsed": 6770,
     "status": "ok",
     "timestamp": 1611845865438,
     "user": {
      "displayName": "Dharmesh Vishwakarma",
      "photoUrl": "https://lh3.googleusercontent.com/a-/AOh14GgsjExmwoV7Svn4GNr2q8GkJzjtYfnYqQibFHnwrZs=s64",
      "userId": "06241123650944617707"
     },
     "user_tz": -330
    },
    "id": "F-gnFF_xYorj"
   },
   "outputs": [],
   "source": []
  },
  {
   "cell_type": "markdown",
   "metadata": {
    "id": "7QQchuWKYork"
   },
   "source": [
    "### Task: 12. Pairplot the dataframe. Comment on kills vs damage dealt, Comment on maxPlace vs numGroups."
   ]
  },
  {
   "cell_type": "code",
   "execution_count": 50,
   "metadata": {
    "colab": {
     "base_uri": "https://localhost:8080/",
     "height": 960,
     "output_embedded_package_id": "1kCubABIa7hfzA43awYg9t3GPaHjMcxa6"
    },
    "executionInfo": {
     "elapsed": 241618,
     "status": "ok",
     "timestamp": 1611846100336,
     "user": {
      "displayName": "Dharmesh Vishwakarma",
      "photoUrl": "https://lh3.googleusercontent.com/a-/AOh14GgsjExmwoV7Svn4GNr2q8GkJzjtYfnYqQibFHnwrZs=s64",
      "userId": "06241123650944617707"
     },
     "user_tz": -330
    },
    "id": "oUt6GI8RYorl",
    "outputId": "b3d418da-15a6-4123-ac9c-cbf06410bd78"
   },
   "outputs": [
    {
     "data": {
      "text/plain": [
       "Output hidden; open in https://colab.research.google.com to view."
      ]
     },
     "metadata": {},
     "output_type": "display_data"
    }
   ],
   "source": [
    "sns.pairplot(df.head(700));"
   ]
  },
  {
   "cell_type": "code",
   "execution_count": 50,
   "metadata": {
    "executionInfo": {
     "elapsed": 241608,
     "status": "ok",
     "timestamp": 1611846100351,
     "user": {
      "displayName": "Dharmesh Vishwakarma",
      "photoUrl": "https://lh3.googleusercontent.com/a-/AOh14GgsjExmwoV7Svn4GNr2q8GkJzjtYfnYqQibFHnwrZs=s64",
      "userId": "06241123650944617707"
     },
     "user_tz": -330
    },
    "id": "LAouM-KuYor5"
   },
   "outputs": [],
   "source": []
  },
  {
   "cell_type": "markdown",
   "metadata": {
    "id": "rf1LnHybYosB"
   },
   "source": [
    "### Task: 13. How many unique values are there in 'matchType' and what are their counts?"
   ]
  },
  {
   "cell_type": "code",
   "execution_count": 51,
   "metadata": {
    "colab": {
     "base_uri": "https://localhost:8080/"
    },
    "executionInfo": {
     "elapsed": 241583,
     "status": "ok",
     "timestamp": 1611846100359,
     "user": {
      "displayName": "Dharmesh Vishwakarma",
      "photoUrl": "https://lh3.googleusercontent.com/a-/AOh14GgsjExmwoV7Svn4GNr2q8GkJzjtYfnYqQibFHnwrZs=s64",
      "userId": "06241123650944617707"
     },
     "user_tz": -330
    },
    "id": "lgr-_HlTYosD",
    "outputId": "37962afb-a358-4a5a-e96d-f753caa8cfaa"
   },
   "outputs": [
    {
     "data": {
      "text/plain": [
       "squad-fpp           3969\n",
       "duo-fpp             2282\n",
       "squad               1359\n",
       "solo-fpp            1234\n",
       "duo                  702\n",
       "solo                 386\n",
       "normal-squad-fpp      24\n",
       "normal-duo-fpp        13\n",
       "crashfpp              13\n",
       "normal-solo-fpp        8\n",
       "normal-squad           4\n",
       "flaretpp               3\n",
       "crashtpp               2\n",
       "flarefpp               1\n",
       "Name: matchType, dtype: int64"
      ]
     },
     "execution_count": 51,
     "metadata": {
      "tags": []
     },
     "output_type": "execute_result"
    }
   ],
   "source": [
    "df['matchType'].value_counts()"
   ]
  },
  {
   "cell_type": "code",
   "execution_count": 51,
   "metadata": {
    "executionInfo": {
     "elapsed": 241560,
     "status": "ok",
     "timestamp": 1611846100363,
     "user": {
      "displayName": "Dharmesh Vishwakarma",
      "photoUrl": "https://lh3.googleusercontent.com/a-/AOh14GgsjExmwoV7Svn4GNr2q8GkJzjtYfnYqQibFHnwrZs=s64",
      "userId": "06241123650944617707"
     },
     "user_tz": -330
    },
    "id": "Mz1xEewYYosF"
   },
   "outputs": [],
   "source": []
  },
  {
   "cell_type": "markdown",
   "metadata": {
    "id": "M8dORWrJYosG"
   },
   "source": [
    "### Task: 14. Plot a barplot of ‘matchType’ vs 'killPoints'. Write your inferences."
   ]
  },
  {
   "cell_type": "code",
   "execution_count": 52,
   "metadata": {
    "colab": {
     "base_uri": "https://localhost:8080/",
     "height": 620
    },
    "executionInfo": {
     "elapsed": 242656,
     "status": "ok",
     "timestamp": 1611846101490,
     "user": {
      "displayName": "Dharmesh Vishwakarma",
      "photoUrl": "https://lh3.googleusercontent.com/a-/AOh14GgsjExmwoV7Svn4GNr2q8GkJzjtYfnYqQibFHnwrZs=s64",
      "userId": "06241123650944617707"
     },
     "user_tz": -330
    },
    "id": "UTcsyaAUYosI",
    "outputId": "0a9ae886-67ea-4a1c-8fe4-73b9c15ebdbf"
   },
   "outputs": [
    {
     "name": "stderr",
     "output_type": "stream",
     "text": [
      "/usr/local/lib/python3.6/dist-packages/seaborn/_decorators.py:43: FutureWarning: Pass the following variables as keyword args: x, y. From version 0.12, the only valid positional argument will be `data`, and passing other arguments without an explicit keyword will result in an error or misinterpretation.\n",
      "  FutureWarning\n"
     ]
    },
    {
     "data": {
      "image/png": "[encoded data removed]",
      "text/plain": [
       "<Figure size 640x480 with 1 Axes>"
      ]
     },
     "metadata": {
      "tags": []
     },
     "output_type": "display_data"
    }
   ],
   "source": [
    "sns.barplot(df['matchType'],df['killPoints'])\n",
    "plt.xticks(rotation=80);"
   ]
  },
  {
   "cell_type": "code",
   "execution_count": 52,
   "metadata": {
    "executionInfo": {
     "elapsed": 242636,
     "status": "ok",
     "timestamp": 1611846101497,
     "user": {
      "displayName": "Dharmesh Vishwakarma",
      "photoUrl": "https://lh3.googleusercontent.com/a-/AOh14GgsjExmwoV7Svn4GNr2q8GkJzjtYfnYqQibFHnwrZs=s64",
      "userId": "06241123650944617707"
     },
     "user_tz": -330
    },
    "id": "0gbnPt6aYosL"
   },
   "outputs": [],
   "source": []
  },
  {
   "cell_type": "markdown",
   "metadata": {
    "id": "7Ua1gagOYosM"
   },
   "source": [
    "### Task: 15. Plot a barplot of ‘matchType’ vs ‘weaponsAcquired’. Write your inferences."
   ]
  },
  {
   "cell_type": "code",
   "execution_count": 53,
   "metadata": {
    "colab": {
     "base_uri": "https://localhost:8080/",
     "height": 620
    },
    "executionInfo": {
     "elapsed": 242582,
     "status": "ok",
     "timestamp": 1611846101505,
     "user": {
      "displayName": "Dharmesh Vishwakarma",
      "photoUrl": "https://lh3.googleusercontent.com/a-/AOh14GgsjExmwoV7Svn4GNr2q8GkJzjtYfnYqQibFHnwrZs=s64",
      "userId": "06241123650944617707"
     },
     "user_tz": -330
    },
    "id": "EP8Bd0zWYosO",
    "outputId": "db1f153a-0410-4ebb-9b34-1c2934ddf9ce"
   },
   "outputs": [
    {
     "name": "stderr",
     "output_type": "stream",
     "text": [
      "/usr/local/lib/python3.6/dist-packages/seaborn/_decorators.py:43: FutureWarning: Pass the following variables as keyword args: x, y. From version 0.12, the only valid positional argument will be `data`, and passing other arguments without an explicit keyword will result in an error or misinterpretation.\n",
      "  FutureWarning\n"
     ]
    },
    {
     "data": {
      "image/png": "[encoded data removed]",
      "text/plain": [
       "<Figure size 640x480 with 1 Axes>"
      ]
     },
     "metadata": {
      "tags": []
     },
     "output_type": "display_data"
    }
   ],
   "source": [
    "sns.barplot(df['matchType'],df['weaponsAcquired'])\n",
    "plt.xticks(rotation=80);"
   ]
  },
  {
   "cell_type": "code",
   "execution_count": 53,
   "metadata": {
    "executionInfo": {
     "elapsed": 242560,
     "status": "ok",
     "timestamp": 1611846101511,
     "user": {
      "displayName": "Dharmesh Vishwakarma",
      "photoUrl": "https://lh3.googleusercontent.com/a-/AOh14GgsjExmwoV7Svn4GNr2q8GkJzjtYfnYqQibFHnwrZs=s64",
      "userId": "06241123650944617707"
     },
     "user_tz": -330
    },
    "id": "q-g4955YYosQ"
   },
   "outputs": [],
   "source": []
  },
  {
   "cell_type": "markdown",
   "metadata": {
    "id": "IghSZB05YosR"
   },
   "source": [
    "### Task: 16. Find the Categorical columns."
   ]
  },
  {
   "cell_type": "code",
   "execution_count": 54,
   "metadata": {
    "colab": {
     "base_uri": "https://localhost:8080/"
    },
    "executionInfo": {
     "elapsed": 242548,
     "status": "ok",
     "timestamp": 1611846101522,
     "user": {
      "displayName": "Dharmesh Vishwakarma",
      "photoUrl": "https://lh3.googleusercontent.com/a-/AOh14GgsjExmwoV7Svn4GNr2q8GkJzjtYfnYqQibFHnwrZs=s64",
      "userId": "06241123650944617707"
     },
     "user_tz": -330
    },
    "id": "ORNIm9jMYosS",
    "outputId": "59711193-d6a8-4094-9961-c46a0a18c85f"
   },
   "outputs": [
    {
     "data": {
      "text/plain": [
       "Index([], dtype='object')"
      ]
     },
     "execution_count": 54,
     "metadata": {
      "tags": []
     },
     "output_type": "execute_result"
    }
   ],
   "source": [
    "df.select_dtypes('category').columns"
   ]
  },
  {
   "cell_type": "code",
   "execution_count": 54,
   "metadata": {
    "executionInfo": {
     "elapsed": 242523,
     "status": "ok",
     "timestamp": 1611846101526,
     "user": {
      "displayName": "Dharmesh Vishwakarma",
      "photoUrl": "https://lh3.googleusercontent.com/a-/AOh14GgsjExmwoV7Svn4GNr2q8GkJzjtYfnYqQibFHnwrZs=s64",
      "userId": "06241123650944617707"
     },
     "user_tz": -330
    },
    "id": "aHkfd7guYosU"
   },
   "outputs": [],
   "source": []
  },
  {
   "cell_type": "markdown",
   "metadata": {
    "id": "kkb3ljzuYosU"
   },
   "source": [
    "### Task: 17. Plot a boxplot of ‘matchType’ vs ‘winPlacePerc’. Write your inferences."
   ]
  },
  {
   "cell_type": "code",
   "execution_count": 55,
   "metadata": {
    "colab": {
     "base_uri": "https://localhost:8080/",
     "height": 566
    },
    "executionInfo": {
     "elapsed": 244096,
     "status": "ok",
     "timestamp": 1611846103158,
     "user": {
      "displayName": "Dharmesh Vishwakarma",
      "photoUrl": "https://lh3.googleusercontent.com/a-/AOh14GgsjExmwoV7Svn4GNr2q8GkJzjtYfnYqQibFHnwrZs=s64",
      "userId": "06241123650944617707"
     },
     "user_tz": -330
    },
    "id": "sfzUSAouYosV",
    "outputId": "446b50c9-2c56-4573-bffc-ff4cc656c5ad"
   },
   "outputs": [
    {
     "data": {
      "image/png": "[encoded data removed]",
      "text/plain": [
       "<Figure size 640x480 with 1 Axes>"
      ]
     },
     "metadata": {
      "tags": []
     },
     "output_type": "display_data"
    }
   ],
   "source": [
    "sns.boxplot(x='matchType', y='winPlacePerc', data=df)\n",
    "plt.xticks(rotation=80);"
   ]
  },
  {
   "cell_type": "code",
   "execution_count": 55,
   "metadata": {
    "executionInfo": {
     "elapsed": 244074,
     "status": "ok",
     "timestamp": 1611846103162,
     "user": {
      "displayName": "Dharmesh Vishwakarma",
      "photoUrl": "https://lh3.googleusercontent.com/a-/AOh14GgsjExmwoV7Svn4GNr2q8GkJzjtYfnYqQibFHnwrZs=s64",
      "userId": "06241123650944617707"
     },
     "user_tz": -330
    },
    "id": "IawLABllYosX"
   },
   "outputs": [],
   "source": []
  },
  {
   "cell_type": "markdown",
   "metadata": {
    "id": "Osdp2CrRYosX"
   },
   "source": [
    "### Task: 18. Plot a boxplot of ‘matchType’ vs ‘matchDuration’. Write your inferences."
   ]
  },
  {
   "cell_type": "code",
   "execution_count": 56,
   "metadata": {
    "colab": {
     "base_uri": "https://localhost:8080/",
     "height": 566
    },
    "executionInfo": {
     "elapsed": 244023,
     "status": "ok",
     "timestamp": 1611846103166,
     "user": {
      "displayName": "Dharmesh Vishwakarma",
      "photoUrl": "https://lh3.googleusercontent.com/a-/AOh14GgsjExmwoV7Svn4GNr2q8GkJzjtYfnYqQibFHnwrZs=s64",
      "userId": "06241123650944617707"
     },
     "user_tz": -330
    },
    "id": "_bH8lc-2YosY",
    "outputId": "06ec4f0a-665b-488d-bb04-cc11a72b5929"
   },
   "outputs": [
    {
     "data": {
      "image/png": "[encoded data removed]",
      "text/plain": [
       "<Figure size 640x480 with 1 Axes>"
      ]
     },
     "metadata": {
      "tags": []
     },
     "output_type": "display_data"
    }
   ],
   "source": [
    "sns.boxplot(x='matchType', y='matchDuration', data=df)\n",
    "plt.xticks(rotation=80);"
   ]
  },
  {
   "cell_type": "code",
   "execution_count": 56,
   "metadata": {
    "executionInfo": {
     "elapsed": 244000,
     "status": "ok",
     "timestamp": 1611846103171,
     "user": {
      "displayName": "Dharmesh Vishwakarma",
      "photoUrl": "https://lh3.googleusercontent.com/a-/AOh14GgsjExmwoV7Svn4GNr2q8GkJzjtYfnYqQibFHnwrZs=s64",
      "userId": "06241123650944617707"
     },
     "user_tz": -330
    },
    "id": "zULhJBhaYosa"
   },
   "outputs": [],
   "source": []
  },
  {
   "cell_type": "markdown",
   "metadata": {
    "id": "jcUNVufNYosa"
   },
   "source": [
    "### Task: 19. Change the orientation of the above plot to horizontal."
   ]
  },
  {
   "cell_type": "code",
   "execution_count": 57,
   "metadata": {
    "colab": {
     "base_uri": "https://localhost:8080/",
     "height": 453
    },
    "executionInfo": {
     "elapsed": 244854,
     "status": "ok",
     "timestamp": 1611846104084,
     "user": {
      "displayName": "Dharmesh Vishwakarma",
      "photoUrl": "https://lh3.googleusercontent.com/a-/AOh14GgsjExmwoV7Svn4GNr2q8GkJzjtYfnYqQibFHnwrZs=s64",
      "userId": "06241123650944617707"
     },
     "user_tz": -330
    },
    "id": "1CCrm8oRYosb",
    "outputId": "7912a514-b9f4-4138-8eb5-0be8f48ea347"
   },
   "outputs": [
    {
     "data": {
      "image/png": "[encoded data removed]",
      "text/plain": [
       "<Figure size 640x480 with 1 Axes>"
      ]
     },
     "metadata": {
      "tags": []
     },
     "output_type": "display_data"
    }
   ],
   "source": [
    "sns.boxplot( x='matchDuration', y='matchType',data=df);"
   ]
  },
  {
   "cell_type": "code",
   "execution_count": 57,
   "metadata": {
    "executionInfo": {
     "elapsed": 244816,
     "status": "ok",
     "timestamp": 1611846104090,
     "user": {
      "displayName": "Dharmesh Vishwakarma",
      "photoUrl": "https://lh3.googleusercontent.com/a-/AOh14GgsjExmwoV7Svn4GNr2q8GkJzjtYfnYqQibFHnwrZs=s64",
      "userId": "06241123650944617707"
     },
     "user_tz": -330
    },
    "id": "qRzj6mmEYosd"
   },
   "outputs": [],
   "source": []
  },
  {
   "cell_type": "markdown",
   "metadata": {
    "id": "6DWLQwz-Yose"
   },
   "source": [
    "### Task: 20. Add a new column called ‘KILL’ which contains the sum of following columns viz. headshotKills, teamKills,roadKills."
   ]
  },
  {
   "cell_type": "code",
   "execution_count": 58,
   "metadata": {
    "colab": {
     "base_uri": "https://localhost:8080/"
    },
    "executionInfo": {
     "elapsed": 244799,
     "status": "ok",
     "timestamp": 1611846104096,
     "user": {
      "displayName": "Dharmesh Vishwakarma",
      "photoUrl": "https://lh3.googleusercontent.com/a-/AOh14GgsjExmwoV7Svn4GNr2q8GkJzjtYfnYqQibFHnwrZs=s64",
      "userId": "06241123650944617707"
     },
     "user_tz": -330
    },
    "id": "GX4N_gpoYosf",
    "outputId": "1d8779e8-52f1-4e42-f880-659310939d04"
   },
   "outputs": [
    {
     "data": {
      "text/plain": [
       "0       0\n",
       "1       1\n",
       "2       1\n",
       "3       0\n",
       "4       0\n",
       "       ..\n",
       "9995    0\n",
       "9996    0\n",
       "9997    0\n",
       "9998    0\n",
       "9999    0\n",
       "Name: KILL, Length: 10000, dtype: int64"
      ]
     },
     "execution_count": 58,
     "metadata": {
      "tags": []
     },
     "output_type": "execute_result"
    }
   ],
   "source": [
    "df['KILL'] = df['headshotKills'] + df['teamKills'] + df['roadKills']\n",
    "df['KILL']"
   ]
  },
  {
   "cell_type": "code",
   "execution_count": 58,
   "metadata": {
    "executionInfo": {
     "elapsed": 244786,
     "status": "ok",
     "timestamp": 1611846104108,
     "user": {
      "displayName": "Dharmesh Vishwakarma",
      "photoUrl": "https://lh3.googleusercontent.com/a-/AOh14GgsjExmwoV7Svn4GNr2q8GkJzjtYfnYqQibFHnwrZs=s64",
      "userId": "06241123650944617707"
     },
     "user_tz": -330
    },
    "id": "cdGrsTSpYosg"
   },
   "outputs": [],
   "source": []
  },
  {
   "cell_type": "markdown",
   "metadata": {
    "id": "PRAG9tIqYosh"
   },
   "source": [
    "### Task: 21. Round off column ‘winPlacePerc’ to 2 decimals."
   ]
  },
  {
   "cell_type": "code",
   "execution_count": 59,
   "metadata": {
    "colab": {
     "base_uri": "https://localhost:8080/"
    },
    "executionInfo": {
     "elapsed": 244759,
     "status": "ok",
     "timestamp": 1611846104112,
     "user": {
      "displayName": "Dharmesh Vishwakarma",
      "photoUrl": "https://lh3.googleusercontent.com/a-/AOh14GgsjExmwoV7Svn4GNr2q8GkJzjtYfnYqQibFHnwrZs=s64",
      "userId": "06241123650944617707"
     },
     "user_tz": -330
    },
    "id": "I3g8QdqYYosi",
    "outputId": "2ffe9e74-12fc-4272-909d-d56206691c8c"
   },
   "outputs": [
    {
     "data": {
      "text/plain": [
       "0       0.00\n",
       "1       0.22\n",
       "2       0.86\n",
       "3       0.35\n",
       "4       0.07\n",
       "        ... \n",
       "9995    0.83\n",
       "9996    0.72\n",
       "9997    0.21\n",
       "9998    0.24\n",
       "9999    0.19\n",
       "Name: winPlacePerc, Length: 10000, dtype: float64"
      ]
     },
     "execution_count": 59,
     "metadata": {
      "tags": []
     },
     "output_type": "execute_result"
    }
   ],
   "source": [
    "df['winPlacePerc'].round(decimals=2)"
   ]
  },
  {
   "cell_type": "code",
   "execution_count": 59,
   "metadata": {
    "executionInfo": {
     "elapsed": 244726,
     "status": "ok",
     "timestamp": 1611846104116,
     "user": {
      "displayName": "Dharmesh Vishwakarma",
      "photoUrl": "https://lh3.googleusercontent.com/a-/AOh14GgsjExmwoV7Svn4GNr2q8GkJzjtYfnYqQibFHnwrZs=s64",
      "userId": "06241123650944617707"
     },
     "user_tz": -330
    },
    "id": "_d6omKPoYosj"
   },
   "outputs": [],
   "source": []
  },
  {
   "cell_type": "markdown",
   "metadata": {
    "id": "gyx39yEaYosk"
   },
   "source": [
    "\n",
    "### Task: 22. Take a sample of size 50 from the column damageDealt for 100 times and calculate its mean. Plot it on a histogram and comment on its distribution."
   ]
  },
  {
   "cell_type": "code",
   "execution_count": 60,
   "metadata": {
    "colab": {
     "base_uri": "https://localhost:8080/",
     "height": 513
    },
    "executionInfo": {
     "elapsed": 244683,
     "status": "ok",
     "timestamp": 1611846104120,
     "user": {
      "displayName": "Dharmesh Vishwakarma",
      "photoUrl": "https://lh3.googleusercontent.com/a-/AOh14GgsjExmwoV7Svn4GNr2q8GkJzjtYfnYqQibFHnwrZs=s64",
      "userId": "06241123650944617707"
     },
     "user_tz": -330
    },
    "id": "3QgQ9HOGYosl",
    "outputId": "de48a497-bdbd-498b-8509-cc9a909ffa4c"
   },
   "outputs": [
    {
     "name": "stderr",
     "output_type": "stream",
     "text": [
      "/usr/local/lib/python3.6/dist-packages/seaborn/distributions.py:2557: FutureWarning: `distplot` is a deprecated function and will be removed in a future version. Please adapt your code to use either `displot` (a figure-level function with similar flexibility) or `histplot` (an axes-level function for histograms).\n",
      "  warnings.warn(msg, FutureWarning)\n"
     ]
    },
    {
     "data": {
      "image/png": "[encoded data removed]",
      "text/plain": [
       "<Figure size 640x480 with 1 Axes>"
      ]
     },
     "metadata": {
      "tags": []
     },
     "output_type": "display_data"
    }
   ],
   "source": [
    "data_arr = []\n",
    "for i in range(100):\n",
    "    data_arr.append(df['damageDealt'].sample(50).mean())\n",
    "\n",
    "sns.distplot(data_arr);\n",
    "plt.xlabel('damageDealt');"
   ]
  },
  {
   "cell_type": "code",
   "execution_count": 60,
   "metadata": {
    "executionInfo": {
     "elapsed": 244661,
     "status": "ok",
     "timestamp": 1611846104125,
     "user": {
      "displayName": "Dharmesh Vishwakarma",
      "photoUrl": "https://lh3.googleusercontent.com/a-/AOh14GgsjExmwoV7Svn4GNr2q8GkJzjtYfnYqQibFHnwrZs=s64",
      "userId": "06241123650944617707"
     },
     "user_tz": -330
    },
    "id": "1oVzbjHbYosm"
   },
   "outputs": [],
   "source": []
  },
  {
   "cell_type": "code",
   "execution_count": 61,
   "metadata": {
    "executionInfo": {
     "elapsed": 244644,
     "status": "ok",
     "timestamp": 1611846104127,
     "user": {
      "displayName": "Dharmesh Vishwakarma",
      "photoUrl": "https://lh3.googleusercontent.com/a-/AOh14GgsjExmwoV7Svn4GNr2q8GkJzjtYfnYqQibFHnwrZs=s64",
      "userId": "06241123650944617707"
     },
     "user_tz": -330
    },
    "id": "ibUki6N2Yosn"
   },
   "outputs": [],
   "source": [
    "import jovian"
   ]
  },
  {
   "cell_type": "code",
   "execution_count": 62,
   "metadata": {
    "colab": {
     "base_uri": "https://localhost:8080/",
     "height": 86
    },
    "executionInfo": {
     "elapsed": 245073,
     "status": "ok",
     "timestamp": 1611846104591,
     "user": {
      "displayName": "Dharmesh Vishwakarma",
      "photoUrl": "https://lh3.googleusercontent.com/a-/AOh14GgsjExmwoV7Svn4GNr2q8GkJzjtYfnYqQibFHnwrZs=s64",
      "userId": "06241123650944617707"
     },
     "user_tz": -330
    },
    "id": "NQBnAV64ZE-3",
    "outputId": "ee4e9cc4-8fb8-4ec2-b768-6758507fafa4"
   },
   "outputs": [
    {
     "name": "stdout",
     "output_type": "stream",
     "text": [
      "[jovian] Detected Colab notebook...\u001b[0m\n",
      "[jovian] Uploading colab notebook to Jovian...\u001b[0m\n",
      "[jovian] Committed successfully! https://jovian.ai/dharmeshvishwakarma2000/letsupgrade-project\u001b[0m\n"
     ]
    },
    {
     "data": {
      "application/vnd.google.colaboratory.intrinsic+json": {
       "type": "string"
      },
      "text/plain": [
       "'https://jovian.ai/dharmeshvishwakarma2000/letsupgrade-project'"
      ]
     },
     "execution_count": 62,
     "metadata": {
      "tags": []
     },
     "output_type": "execute_result"
    }
   ],
   "source": [
    "jovian.commit(project='letsupgrade-project', environment=None)"
   ]
  },
  {
   "cell_type": "code",
   "execution_count": 62,
   "metadata": {
    "executionInfo": {
     "elapsed": 246246,
     "status": "ok",
     "timestamp": 1611846105774,
     "user": {
      "displayName": "Dharmesh Vishwakarma",
      "photoUrl": "https://lh3.googleusercontent.com/a-/AOh14GgsjExmwoV7Svn4GNr2q8GkJzjtYfnYqQibFHnwrZs=s64",
      "userId": "06241123650944617707"
     },
     "user_tz": -330
    },
    "id": "-3KerrV-ZQlY"
   },
   "outputs": [],
   "source": []
  }
 ],
 "metadata": {
  "colab": {
   "collapsed_sections": [],
   "name": "LetsUpgrade-Project.ipynb",
   "provenance": []
  },
  "kernelspec": {
   "display_name": "Python 3",
   "language": "python",
   "name": "python3"
  },
  "language_info": {
   "codemirror_mode": {
    "name": "ipython",
    "version": 3
   },
   "file_extension": ".py",
   "mimetype": "text/x-python",
   "name": "python",
   "nbconvert_exporter": "python",
   "pygments_lexer": "ipython3",
   "version": "3.7.6"
  }
 },
 "nbformat": 4,
 "nbformat_minor": 0
}